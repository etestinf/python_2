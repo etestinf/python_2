{
 "cells": [
  {
   "cell_type": "markdown",
   "metadata": {},
   "source": [
    "# 🧪 Laboratorijas darbs: Interaktīvi spēles iestatījumi ar PyGame (Colab versija)\n",
    "\n",
    "🎯 **Mērķis**:\n",
    "- Izmantot `ipywidgets` izvēlnes\n",
    "- Vadīt `pygame` spēli, mainot krāsu, izmēru, ātrumu\n",
    "- Iegūt praktisku pieredzi ar GUI līdzīgu vidi Colab platformā"
   ]
  },
  {
   "cell_type": "code",
   "execution_count": null,
   "metadata": {},
   "outputs": [],
   "source": [
    "!pip install pygame ipywidgets --quiet"
   ]
  },
  {
   "cell_type": "code",
   "execution_count": null,
   "metadata": {},
   "outputs": [],
   "source": [
    "import pygame\n",
    "import ipywidgets as widgets\n",
    "from IPython.display import display, clear_output\n",
    "import time\n",
    "\n",
    "# Noklusējuma vērtības\n",
    "width, height = 400, 300\n",
    "FPS = 60\n",
    "\n",
    "# Izveidojam izvēlnes\n",
    "krasa = widgets.Dropdown(\n",
    "    options=['Sarkana', 'Zaļa', 'Zila'],\n",
    "    value='Sarkana',\n",
    "    description='Krāsa:'\n",
    ")\n",
    "izmērs = widgets.IntSlider(value=30, min=10, max=100, step=5, description='Izmērs:')\n",
    "atrums = widgets.IntSlider(value=5, min=1, max=20, step=1, description='Ātrums:')\n",
    "poga = widgets.Button(description=\"Startēt spēli\")\n",
    "\n",
    "display(krasa, izmērs, atrums, poga)"
   ]
  },
  {
   "cell_type": "code",
   "execution_count": null,
   "metadata": {},
   "outputs": [],
   "source": [
    "def sakt_speli(b):\n",
    "    color_map = {\n",
    "        'Sarkana': (255, 0, 0),\n",
    "        'Zaļa': (0, 255, 0),\n",
    "        'Zila': (0, 0, 255)\n",
    "    }\n",
    "    color = color_map[krasa.value]\n",
    "    radius = izmērs.value\n",
    "    speed = atrums.value\n",
    "\n",
    "    pygame.init()\n",
    "    screen = pygame.display.set_mode((width, height))\n",
    "    pygame.display.set_caption(\"Spēle\")\n",
    "    clock = pygame.time.Clock()\n",
    "\n",
    "    x, y = 100, 100\n",
    "    dx, dy = speed, speed\n",
    "    start_time = time.time()\n",
    "\n",
    "    running = True\n",
    "    while running and time.time() - start_time < 10:\n",
    "        for event in pygame.event.get():\n",
    "            if event.type == pygame.QUIT:\n",
    "                running = False\n",
    "\n",
    "        screen.fill((255, 255, 255))\n",
    "        pygame.draw.circle(screen, color, (x, y), radius)\n",
    "\n",
    "        x += dx\n",
    "        y += dy\n",
    "        if x - radius <= 0 or x + radius >= width:\n",
    "            dx = -dx\n",
    "        if y - radius <= 0 or y + radius >= height:\n",
    "            dy = -dy\n",
    "\n",
    "        pygame.display.flip()\n",
    "        clock.tick(FPS)\n",
    "\n",
    "    pygame.quit()\n",
    "    clear_output(wait=True)\n",
    "    display(krasa, izmērs, atrums, poga)\n",
    "    print(\"✅ Spēle beigusies (10 sekundes)\")\n",
    "\n",
    "poga.on_click(sakt_speli)"
   ]
  },
  {
   "cell_type": "markdown",
   "metadata": {},
   "source": [
    "---\n",
    "### 📌 Uzdevumi skolēniem:\n",
    "\n",
    "1. Izvēlies krāsu **Zila**, izmēru **50**, ātrumu **10** — palaid.\n",
    "2. Izvēlies krāsu **Zaļa**, izmēru **10**, ātrumu **1** — palaid.\n",
    "3. Novērtē kā parametrs maina spēles dinamiku.\n",
    "4. Kuri iestatījumi rada visinteresantāko spēli?\n"
   ]
  },
  {
   "cell_type": "markdown",
   "metadata": {},
   "source": [
    "<details>\n",
    "<summary>💡 Padomi (noklikšķini, lai atvērtu)</summary>\n",
    "\n",
    "- Krāsas tiek konvertētas RGB formātā\n",
    "- Rādiuss nosaka bumbiņas lielumu — jo lielāks, jo ātrāk atsitas\n",
    "- Ātrums ietekmē cik strauji mainās pozīcija katrā kadrā\n",
    "- Colab ļauj tikai ~10 sekundes ilgu pygame simulāciju\n",
    "</details>"
   ]
  },
  {
   "cell_type": "markdown",
   "metadata": {},
   "source": [
    "<details>\n",
    "<summary>✔️ Pareizie rezultāti (noklikšķini, lai atvērtu)</summary>\n",
    "\n",
    "- Zila, 50, 10: Ātra un liela bumba, atsitās bieži\n",
    "- Zaļa, 10, 1: Lēna, maza bumba — grūti redzēt, lēns ritējums\n",
    "- Lielāks ātrums = dinamiskāka spēle\n",
    "</details>"
   ]
  }
 ],
 "metadata": {
  "colab": {
   "provenance": [],
   "authorship_tag": "generated"
  },
  "kernelspec": {
   "name": "python3",
   "display_name": "Python 3"
  },
  "language_info": {
   "name": "python"
  }
 },
 "nbformat": 4,
 "nbformat_minor": 5
}
