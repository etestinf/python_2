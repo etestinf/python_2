import ipywidgets as widgets
from IPython.display import display, clear_output
import random
from datetime import datetime
import os

# Ja nepieciešams: pip install requests
import requests

# Jautājumi
questions_data = [
    ("Ko dara pygame.init()?", [
        "Inicializē visus importētos pygame moduļus",
        "Palaiž spēles ciklu",
        "Ielādē spēles logu",
        "Izveido galveno varoņa sprite objektu"
    ], 0),
    ("Kura metode tiek izmantota, lai uzzīmētu taisnstūri pygame logā?", [
        "pygame.draw.rect()",
        "pygame.screen.rectangle()",
        "pygame.create.rect()",
        "pygame.render.rect()"
    ], 0),
    ("Kā tiek atjaunināts logs pygame pēc zīmēšanas?", [
        "pygame.display.flip()",
        "pygame.update.display()",
        "pygame.screen.refresh()",
        "pygame.render.frame()"
    ], 0),
    ("Ko pārbauda event.type == pygame.QUIT?", [
        "Vai lietotājs ir nospiedis loga aizvēršanas pogu",
        "Vai lietotājs nospieda taustiņu Enter",
        "Vai spēlei jāsākas no jauna",
        "Vai spēlētājs zaudēja"
    ], 0),
    ("Kurš modulis tiek izmantots, lai veidotu GUI lietotnes Python valodā?", [
        "tkinter",
        "pygame.gui",
        "guimodule",
        "tkbuilder"
    ], 0),
    ("Kurš tkinter logelements tiek izmantots, lai saņemtu tekstu no lietotāja?", [
        "Entry",
        "Label",
        "Button",
        "Canvas"
    ], 0),
    ("Ko dara mainloop() tkinter lietotnē?", [
        "Palaiž GUI notikumu ciklu",
        "Pieslēdzas datubāzei",
        "Atjauno Python vidi",
        "Izveido loga izvietojumu"
    ], 0),
    ("Kurš tkinter logelements ļauj zīmēt figūras kā taisnstūrus un tekstu?", [
        "Canvas",
        "Frame",
        "Box",
        "Entry"
    ], 0),
]

random.shuffle(questions_data)
results = [None] * len(questions_data)
attempts = [0] * len(questions_data)
question_widgets = []

name_input = widgets.Text(description='Vārds:', placeholder='Ievadi savu vārdu')
submit_button = widgets.Button(description="Iesniegt", button_style='success')
download_button = widgets.Button(description="⬇️ Lejupielādēt", button_style='info')

def create_question(index, question, options, correct_index):
    out = widgets.Output()
    paired = list(enumerate(options))
    random.shuffle(paired)
    shuffled_indexes, shuffled_options = zip(*paired)
    correct_shuffled_index = shuffled_indexes.index(correct_index)

    radio = widgets.RadioButtons(options=shuffled_options)
    button = widgets.Button(description='Pārbaudīt')
    feedback = widgets.HTML()

    def on_click(b):
        attempts[index] += 1
        if radio.index == correct_shuffled_index:
            penalty = 5 * (attempts[index] - 1)
            score = max(12.5 - penalty, 0)
            results[index] = score
            feedback.value = "<span style='color:green'>✔️ Pareizi!</span>"
            radio.disabled = True
            button.disabled = True
            if all(r is not None for r in results):
                display(widgets.VBox([name_input, submit_button]))
        else:
            feedback.value = "<span style='color:red'>❌ Nepareizi. Mēģini vēlreiz.</span>"

    button.on_click(on_click)

    with out:
        display(widgets.HTML(f"<b>{index+1}. {question}</b>"), radio, button, feedback)
    return out

def submit_results(_):
    clear_output()
    for w in question_widgets:
        display(w)

    total = sum(r if r else 0 for r in results)
    final_score = round(total)
    status = "✅ Nokārtots!" if final_score >= 70 else "❌ Nenokārtots."
    color = "green" if final_score >= 70 else "red"

    now = datetime.now().strftime("%Y-%m-%d %H:%M")
    student_name = name_input.value.strip() or "Nezināms"

    display(widgets.HTML(f"<h3>Rezultāts: <span style='color:{color}'>{final_score}%</span> – {status}</h3>"))
    display(download_button)

    # Izveidot un saglabāt .txt
    filename = f"rezultats_{student_name.replace(' ', '_')}.txt"
    with open(filename, 'w', encoding='utf-8') as f:
        f.write(f"Students: {student_name}\nDatums: {now}\nRezultāts: {final_score}%\n\n")
        for i, (q, _, _) in enumerate(questions_data):
            f.write(f"{i+1}. {q} (Mēģinājumi: {attempts[i]})\n")

    from google.colab import files
    files.download(filename)

    # Nosūtīt uz Google Form
    form_url = 'https://docs.google.com/forms/d/e/YOUR_FORM_ID/formResponse'
    form_data = {
        'entry.ENTRY_ID_STUDENT': student_name,
        'entry.ENTRY_ID_DATE': now,
        'entry.ENTRY_ID_SCORE': f"{final_score}%",
    }

    for i, (q, _, _) in enumerate(questions_data):
        form_data[f'entry.ENTRY_ID_Q{i+1}'] = f"{q} (Mēģinājumi: {attempts[i]})"

    try:
        requests.post(form_url, data=form_data)
    except Exception as e:
        print("❌ Neizdevās iesniegt uz Google Form:", e)

submit_button.on_click(submit_results)
download_button.on_click(submit_results)

# Parāda jautājumus
for i, (q, opts, correct) in enumerate(questions_data):
    qw = create_question(i, q, opts, correct)
    question_widgets.append(qw)
    display(qw)
