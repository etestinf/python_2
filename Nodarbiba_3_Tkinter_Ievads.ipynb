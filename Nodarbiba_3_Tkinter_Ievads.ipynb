{
 "cells": [
  {
   "cell_type": "markdown",
   "id": "9e8b3d97",
   "metadata": {},
   "source": [
    "# 🧑‍🏫 3. nodarbība: Ievads Tkinter – Python GUI modulis"
   ]
  },
  {
   "cell_type": "markdown",
   "id": "28754d4e",
   "metadata": {},
   "source": [
    "### 🎯 Mērķi:\n",
    "- Saprast, kas ir Tkinter.\n",
    "- Izveidot pamata GUI logu.\n",
    "- Apgūt, kā izvietot logrīkus (pogas, etiķetes, ievades lauki)."
   ]
  },
  {
   "cell_type": "code",
   "execution_count": null,
   "id": "62bb9bed",
   "metadata": {},
   "outputs": [],
   "source": [
    "import tkinter as tk\n",
    "\n",
    "window = tk.Tk()\n",
    "window.title(\"Mana pirmā Tkinter lietotne\")\n",
    "window.geometry(\"300x200\")\n",
    "\n",
    "window.mainloop()"
   ]
  },
  {
   "cell_type": "markdown",
   "id": "ae2b13af",
   "metadata": {},
   "source": [
    "### 🧪 Piemērs 1: Izveido logu\n",
    "Šis kods inicializē vienkāršu GUI logu."
   ]
  },
  {
   "cell_type": "code",
   "execution_count": null,
   "id": "7da69e6b",
   "metadata": {},
   "outputs": [],
   "source": [
    "label = tk.Label(window, text=\"Sveiks, Tkinter!\")\n",
    "label.pack()"
   ]
  },
  {
   "cell_type": "markdown",
   "id": "424d178c",
   "metadata": {},
   "source": [
    "### 🧪 Piemērs 2: Pievieno etiķeti\n",
    "Parāda tekstu logā ar `Label`."
   ]
  },
  {
   "cell_type": "code",
   "execution_count": null,
   "id": "2e2f82a1",
   "metadata": {},
   "outputs": [],
   "source": [
    "button = tk.Button(window, text=\"Nospied mani\", command=lambda: print(\"Poga nospiesta!\"))\n",
    "button.pack()"
   ]
  },
  {
   "cell_type": "markdown",
   "id": "fd3bfc16",
   "metadata": {},
   "source": [
    "### 🧪 Piemērs 3: Pievieno pogu\n",
    "Poga izvada tekstu uz konsoli, kad to nospiež."
   ]
  },
  {
   "cell_type": "code",
   "execution_count": null,
   "id": "92f6d765",
   "metadata": {},
   "outputs": [],
   "source": [
    "entry = tk.Entry(window)\n",
    "entry.pack()\n",
    "\n",
    "submit = tk.Button(window, text=\"Apstiprināt\", command=lambda: print(\"Tu ievadīji:\", entry.get()))\n",
    "submit.pack()"
   ]
  },
  {
   "cell_type": "markdown",
   "id": "e124f442",
   "metadata": {},
   "source": [
    "### 🧪 Piemērs 4: Ievades lauks\n",
    "Lietotājs var ievadīt tekstu un nospiest pogu."
   ]
  },
  {
   "cell_type": "code",
   "execution_count": null,
   "id": "1b7c957b",
   "metadata": {},
   "outputs": [],
   "source": [
    "frame = tk.Frame(window)\n",
    "frame.pack()\n",
    "\n",
    "b1 = tk.Button(frame, text=\"Pa kreisi\")\n",
    "b1.pack(side=tk.LEFT)\n",
    "\n",
    "b2 = tk.Button(frame, text=\"Pa labi\")\n",
    "b2.pack(side=tk.RIGHT)"
   ]
  },
  {
   "cell_type": "markdown",
   "id": "2e0afd5e",
   "metadata": {},
   "source": [
    "### 🧪 Piemērs 5: Izvietojums ar rāmi\n",
    "Pogas novietotas horizontāli, izmantojot rāmi."
   ]
  },
  {
   "cell_type": "code",
   "execution_count": null,
   "id": "de90da92",
   "metadata": {},
   "outputs": [],
   "source": [
    "counter = 0\n",
    "\n",
    "def increment():\n",
    "    global counter\n",
    "    counter += 1\n",
    "    label.config(text=str(counter))\n",
    "\n",
    "label = tk.Label(window, text=\"0\")\n",
    "label.pack()\n",
    "\n",
    "inc_button = tk.Button(window, text=\"Palielināt\", command=increment)\n",
    "inc_button.pack()"
   ]
  },
  {
   "cell_type": "markdown",
   "id": "9964608c",
   "metadata": {},
   "source": [
    "### 🧪 Piemērs 6: Skaitītāja lietotne\n",
    "Katrs klikšķis palielina skaitli."
   ]
  },
  {
   "cell_type": "code",
   "execution_count": null,
   "id": "a702d528",
   "metadata": {},
   "outputs": [],
   "source": [
    "def change_color():\n",
    "    window.configure(bg=\"lightblue\")\n",
    "\n",
    "color_btn = tk.Button(window, text=\"Mainīt fonu\", command=change_color)\n",
    "color_btn.pack()"
   ]
  },
  {
   "cell_type": "markdown",
   "id": "5a220f84",
   "metadata": {},
   "source": [
    "### 🧪 Piemērs 7: Mainīt fona krāsu\n",
    "Poga maina loga fona krāsu."
   ]
  },
  {
   "cell_type": "code",
   "execution_count": null,
   "id": "4e297c89",
   "metadata": {},
   "outputs": [],
   "source": [
    "def show_message():\n",
    "    tk.messagebox.showinfo(\"Ziņojums\", \"Šis ir uznirstošs logs!\")\n",
    "\n",
    "import tkinter.messagebox\n",
    "msg_button = tk.Button(window, text=\"Parādīt ziņu\", command=show_message)\n",
    "msg_button.pack()"
   ]
  },
  {
   "cell_type": "markdown",
   "id": "bded1752",
   "metadata": {},
   "source": [
    "### 🧪 Piemērs 8: Ziņojuma logs\n",
    "Parāda uznirstošo logu ar paziņojumu."
   ]
  },
  {
   "cell_type": "markdown",
   "id": "b1f25a02",
   "metadata": {},
   "source": [
    "## ✅ Kopsavilkums:\n",
    "- Tu izveidoji GUI logu ar Tkinter.\n",
    "- Tu izmantoji logrīkus: Label, Button, Entry.\n",
    "- Tu strādāji ar lietotāja ievadi un notikumiem."
   ]
  }
 ],
 "metadata": {},
 "nbformat": 4,
 "nbformat_minor": 5
}