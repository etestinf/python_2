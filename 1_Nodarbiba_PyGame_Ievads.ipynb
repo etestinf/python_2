{
 "cells": [
  {
   "cell_type": "markdown",
   "id": "618236b6",
   "metadata": {},
   "source": [
    "# 🧑‍🏫 1. nodarbība: Ievads PyGame un vienkāršs spēles logs"
   ]
  },
  {
   "cell_type": "markdown",
   "id": "58d1beb8",
   "metadata": {},
   "source": [
    "### 🎯 Mērķi:\n",
    "- Saprast, kas ir PyGame un kā to izmantot.\n",
    "- Iemācīties instalēt PyGame.\n",
    "- Izveidot spēles logu un zīmēt vienkāršas formas."
   ]
  },
  {
   "cell_type": "markdown",
   "id": "bb47d7f8",
   "metadata": {},
   "source": [
    "### 📚 Teorija\n",
    "**Kas ir PyGame?**\n",
    "\n",
    "PyGame ir Python bibliotēka, kas paredzēta videospēļu izstrādei. Tā nodrošina rīkus grafikai, skaņai un lietotāja ievadei."
   ]
  },
  {
   "cell_type": "code",
   "execution_count": null,
   "id": "6f370b61",
   "metadata": {},
   "outputs": [],
   "source": [
    "!pip install pygame"
   ]
  },
  {
   "cell_type": "markdown",
   "id": "262386c1",
   "metadata": {},
   "source": [
    "**PyGame darba plūsma:**\n",
    "1. Inicializē PyGame.\n",
    "2. Izveido spēles logu.\n",
    "3. Darbina spēles ciklu: apstrādā notikumus, atjauno spēles stāvokli un zīmē visu.\n",
    "4. Beidz darbu korekti."
   ]
  },
  {
   "cell_type": "markdown",
   "id": "5c2af366",
   "metadata": {},
   "source": [
    "### 🧪 Koda piemērs 1: Vienkāršs spēles logs"
   ]
  },
  {
   "cell_type": "code",
   "execution_count": null,
   "id": "775a7506",
   "metadata": {},
   "outputs": [],
   "source": [
    "import pygame\n",
    "pygame.init()\n",
    "\n",
    "screen = pygame.display.set_mode((500, 400))\n",
    "pygame.display.set_caption(\"Mana pirmā spēle\")\n",
    "\n",
    "running = True\n",
    "while running:\n",
    "    for event in pygame.event.get():\n",
    "        if event.type == pygame.QUIT:\n",
    "            running = False\n",
    "\n",
    "pygame.quit()"
   ]
  },
  {
   "cell_type": "markdown",
   "id": "28447d73",
   "metadata": {},
   "source": [
    "### 🧪 Koda piemērs 2: Aizpildi ekrānu ar krāsu"
   ]
  },
  {
   "cell_type": "code",
   "execution_count": null,
   "id": "aa520b8c",
   "metadata": {},
   "outputs": [],
   "source": [
    "screen.fill((0, 255, 0)) # RGB zaļas krāsas fons\n",
    "pygame.display.update()"
   ]
  },
  {
   "cell_type": "markdown",
   "id": "b7629b92",
   "metadata": {},
   "source": [
    "### 🧪 Koda piemērs 3: Uzzīmē taisnstūri"
   ]
  },
  {
   "cell_type": "code",
   "execution_count": null,
   "id": "c26bfa8e",
   "metadata": {},
   "outputs": [],
   "source": [
    "pygame.draw.rect(screen, (255, 0, 0), (50, 50, 100, 60)) # RGB sarkanas krāsas taisnstūris\n",
    "pygame.display.update()"
   ]
  },
  {
   "cell_type": "markdown",
   "id": "265cf114",
   "metadata": {},
   "source": [
    "### 🧪 Koda piemērs 4: Uzzīmē apli"
   ]
  },
  {
   "cell_type": "code",
   "execution_count": null,
   "id": "99ad3bf6",
   "metadata": {},
   "outputs": [],
   "source": [
    "pygame.draw.circle(screen, (0, 0, 255), (250, 200), 40)  # RGB zilas krāsas aplis\n",
    "pygame.display.update()"
   ]
  },
  {
   "cell_type": "markdown",
   "id": "f548c455",
   "metadata": {},
   "source": [
    "## ✅ 1. nodarbības kopsavilkums:\n",
    "- PyGame tiek izmantots spēļu izveidei Python valodā.\n",
    "- Spēles struktūra: inicializācija → logs → cikls → iziešana.\n",
    "- Mācījāmies izveidot logu un zīmēt formas."
   ]
  }
 ],
 "metadata": {},
 "nbformat": 4,
 "nbformat_minor": 5
}