{
 "cells": [
  {
   "cell_type": "markdown",
   "id": "ae3a57db",
   "metadata": {},
   "source": [
    "# 🧪 Python Kodēšana 2 – Tests (1.–4. nodarbība)\n",
    "\n",
    "Izvēlies pareizās atbildes. Atkārtota mēģinājuma gadījumā rezultāts samazināsies par 5%."
   ]
  },
  {
   "cell_type": "code",
   "execution_count": null,
   "id": "96d42b7e",
   "metadata": {},
   "outputs": [],
   "source": [
    "\n",
    "import ipywidgets as widgets\n",
    "from IPython.display import display, clear_output\n",
    "\n",
    "results = [None] * 8\n",
    "attempts = [0] * 8\n",
    "\n",
    "def create_question(index, question, options, correct_index):\n",
    "    out = widgets.Output()\n",
    "    radio = widgets.RadioButtons(options=options, layout={'width': 'max-content'})\n",
    "    button = widgets.Button(description='Pārbaudīt')\n",
    "    feedback = widgets.HTML()\n",
    "\n",
    "    def on_click(b):\n",
    "        attempts[index] += 1\n",
    "        if radio.index == correct_index:\n",
    "            penalty = 0.05 * (attempts[index] - 1)\n",
    "            results[index] = max(1 - penalty, 0)\n",
    "            feedback.value = \"<span style='color:green'>✔️ Pareizi!</span>\"\n",
    "            radio.disabled = True\n",
    "            button.disabled = True\n",
    "        else:\n",
    "            feedback.value = \"<span style='color:red'>❌ Nepareizi. Mēģini vēlreiz.</span>\"\n",
    "\n",
    "    button.on_click(on_click)\n",
    "\n",
    "    with out:\n",
    "        display(widgets.HTML(f\"<b>{question}</b>\"), radio, button, feedback)\n",
    "    return out\n",
    "\n",
    "def calculate_score():\n",
    "    completed = all(r is not None for r in results)\n",
    "    if not completed:\n",
    "        return widgets.HTML(\"<b style='color:red'>⚠️ Lūdzu, atbildi uz visiem jautājumiem pirms iesniegšanas.</b>\")\n",
    "    score = round(sum(results) / len(results) * 100)\n",
    "    status = \"✅ Nokārtots!\" if score >= 70 else \"❌ Nenokārtots.\"\n",
    "    color = \"green\" if score >= 70 else \"red\"\n",
    "    return widgets.HTML(f\"<h3>Rezultāts: <span style='color:{color}'>{score}%</span> – {status}</h3>\")\n"
   ]
  },
  {
   "cell_type": "code",
   "execution_count": null,
   "id": "46e06c05",
   "metadata": {},
   "outputs": [],
   "source": [
    "create_question(0, \"1. Ko dara pygame.init()?\", [\"Inicializē visus importētos pygame moduļus\", \"Palaiž spēles ciklu\", \"Ielādē spēles logu\", \"Izveido galveno varoņa sprite objektu\"], 0)"
   ]
  },
  {
   "cell_type": "code",
   "execution_count": null,
   "id": "d51998bf",
   "metadata": {},
   "outputs": [],
   "source": [
    "create_question(1, \"2. Kura metode tiek izmantota, lai uzzīmētu taisnstūri pygame logā?\", [\"pygame.draw.rect()\", \"pygame.screen.rectangle()\", \"pygame.create.rect()\", \"pygame.render.rect()\"], 0)"
   ]
  },
  {
   "cell_type": "code",
   "execution_count": null,
   "id": "e646f82a",
   "metadata": {},
   "outputs": [],
   "source": [
    "create_question(2, \"3. Kā tiek atjaunināts logs pygame pēc zīmēšanas?\", [\"pygame.display.flip()\", \"pygame.update.display()\", \"pygame.screen.refresh()\", \"pygame.render.frame()\"], 0)"
   ]
  },
  {
   "cell_type": "code",
   "execution_count": null,
   "id": "85e00c69",
   "metadata": {},
   "outputs": [],
   "source": [
    "create_question(3, \"4. Ko pārbauda event.type == pygame.QUIT?\", [\"Vai lietotājs ir nospiedis loga aizvēršanas pogu\", \"Vai lietotājs nospieda taustiņu Enter\", \"Vai spēlei jāsākas no jauna\", \"Vai spēlētājs zaudēja\"], 0)"
   ]
  },
  {
   "cell_type": "code",
   "execution_count": null,
   "id": "5b3b232d",
   "metadata": {},
   "outputs": [],
   "source": [
    "create_question(4, \"5. Kurš modulis tiek izmantots, lai veidotu GUI lietotnes Python valodā?\", [\"tkinter\", \"pygame.gui\", \"guimodule\", \"tkbuilder\"], 0)"
   ]
  },
  {
   "cell_type": "code",
   "execution_count": null,
   "id": "ee1e03f0",
   "metadata": {},
   "outputs": [],
   "source": [
    "create_question(5, \"6. Kurš tkinter logelements tiek izmantots, lai saņemtu tekstu no lietotāja?\", [\"Entry\", \"Label\", \"Button\", \"Canvas\"], 0)"
   ]
  },
  {
   "cell_type": "code",
   "execution_count": null,
   "id": "42d8331e",
   "metadata": {},
   "outputs": [],
   "source": [
    "create_question(6, \"7. Ko dara mainloop() tkinter lietotnē?\", [\"Palaiž GUI notikumu ciklu\", \"Pieslēdzas datubāzei\", \"Atjauno Python vidi\", \"Izveido loga izvietojumu\"], 0)"
   ]
  },
  {
   "cell_type": "code",
   "execution_count": null,
   "id": "fbd0a0e6",
   "metadata": {},
   "outputs": [],
   "source": [
    "create_question(7, \"8. Kurš tkinter logelements ļauj zīmēt figūras kā taisnstūrus un tekstu?\", [\"Canvas\", \"Frame\", \"Box\", \"Entry\"], 0)"
   ]
  },
  {
   "cell_type": "markdown",
   "id": "77e12be7",
   "metadata": {},
   "source": [
    "### ✅ Noslēgums"
   ]
  },
  {
   "cell_type": "code",
   "execution_count": null,
   "id": "8582730a",
   "metadata": {},
   "outputs": [],
   "source": [
    "display(calculate_score())"
   ]
  }
 ],
 "metadata": {},
 "nbformat": 4,
 "nbformat_minor": 5
}