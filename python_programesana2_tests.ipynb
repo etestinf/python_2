{
 "cells": [
  {
   "cell_type": "markdown",
   "metadata": {},
   "source": [
    "# 🧪 Python Kodēšana 2 – Tests (1.–4. nodarbība)\n",
    "\n",
    "Izvēlies pareizās atbildes. Atkārtota mēģinājuma gadījumā rezultāts samazināsies par 5%."
   ]
  },
  {
   "cell_type": "code",
   "metadata": {},
   "outputs": [],
   "source": [
    "import ipywidgets as widgets\n",
    "from IPython.display import display, clear_output\n",
    "\n",
    "results = [None] * 8\n",
    "attempts = [0] * 8\n",
    "\n",
    "def create_question(index, question, options, correct_index):\n",
    "    out = widgets.Output()\n",
    "    radio = widgets.RadioButtons(options=options, layout={'width': 'max-content'})\n",
    "    button = widgets.Button(description='Pārbaudīt')\n",
    "    feedback = widgets.HTML()\n",
    "\n",
    "    def on_click(b):\n",
    "        attempts[index] += 1\n",
    "        if radio.index == correct_index:\n",
    "            penalty = 0.05 * (attempts[index] - 1)\n",
    "            results[index] = max(1 - penalty, 0)\n",
    "            feedback.value = \"<span style='color:green'>✔️ Pareizi!</span>\"\n",
    "            radio.disabled = True\n",
    "            button.disabled = True\n",
    "        else:\n",
    "            feedback.value = \"<span style='color:red'>❌ Nepareizi. Mēģini vēlreiz.</span>\"\n",
    "\n",
    "    button.on_click(on_click)\n",
    "\n",
    "    with out:\n",
    "        display(widgets.HTML(f\"<b>{question}</b>\"), radio, button, feedback)\n",
    "    display(out)"
   ]
  },
  {
   "cell_type": "code",
   "metadata": {},
   "outputs": [],
   "source": [
    "create_question(0, \"1. Ko dara pygame.init()?\", [\n",
    "    \"Inicializē visus importētos pygame moduļus\", \n",
    "    \"Palaiž spēles ciklu\", \n",
    "    \"Ielādē spēles logu\", \n",
    "    \"Izveido galveno varoņa sprite objektu\"\n",
    "], 0)"
   ]
  },
  {
   "cell_type": "code",
   "metadata": {},
   "outputs": [],
   "source": [
    "create_question(1, \"2. Kura metode tiek izmantota, lai uzzīmētu taisnstūri pygame logā?\", [\n",
    "    \"pygame.draw.rect()\", \n",
    "    \"pygame.screen.rectangle()\", \n",
    "    \"pygame.create.rect()\", \n",
    "    \"pygame.render.rect()\"\n",
    "], 0)"
   ]
  },
  {
   "cell_type": "code",
   "metadata": {},
   "outputs": [],
   "source": [
    "create_question(2, \"3. Kā tiek atjaunināts logs pygame pēc zīmēšanas?\", [\n",
    "    \"pygame.display.flip()\", \n",
    "    \"pygame.update.display()\", \n",
    "    \"pygame.screen.refresh()\", \n",
    "    \"pygame.render.frame()\"\n",
    "], 0)"
   ]
  },
  {
   "cell_type": "code",
   "metadata": {},
   "outputs": [],
   "source": [
    "create_question(3, \"4. Ko pārbauda event.type == pygame.QUIT?\", [\n",
    "    \"Vai lietotājs ir nospiedis loga aizvēršanas pogu\", \n",
    "    \"Vai lietotājs nospieda taustiņu Enter\", \n",
    "    \"Vai spēlei jāsākas no jauna\", \n",
    "    \"Vai spēlētājs zaudēja\"\n",
    "], 0)"
   ]
  },
  {
   "cell_type": "code",
   "metadata": {},
   "outputs": [],
   "source": [
    "create_question(4, \"5. Kurš modulis tiek izmantots, lai veidotu GUI lietotnes Python valodā?\", [\n",
    "    \"tkinter\", \n",
    "    \"pygame.gui\", \n",
    "    \"guimodule\", \n",
    "    \"tkbuilder\"\n",
    "], 0)"
   ]
  },
  {
   "cell_type": "code",
   "metadata": {},
   "outputs": [],
   "source": [
    "create_question(5, \"6. Kurš tkinter logelements tiek izmantots, lai saņemtu tekstu no lietotāja?\", [\n",
    "    \"Entry\", \n",
    "    \"Label\", \n",
    "    \"Button\", \n",
    "    \"Canvas\"\n",
    "], 0)"
   ]
  },
  {
   "cell_type": "code",
   "metadata": {},
   "outputs": [],
   "source": [
    "create_question(6, \"7. Ko dara mainloop() tkinter lietotnē?\", [\n",
    "    \"Palaiž GUI notikumu ciklu\", \n",
    "    \"Pieslēdzas datubāzei\", \n",
    "    \"Atjauno Python vidi\", \n",
    "    \"Izveido loga izvietojumu\"\n",
    "], 0)"
   ]
  },
  {
   "cell_type": "code",
   "metadata": {},
   "outputs": [],
   "source": [
    "create_question(7, \"8. Kurš tkinter logelements ļauj zīmēt figūras kā taisnstūrus un tekstu?\", [\n",
    "    \"Canvas\", \n",
    "    \"Frame\", \n",
    "    \"Box\", \n",
    "    \"Entry\"\n",
    "], 0)"
   ]
  },
  {
   "cell_type": "markdown",
   "metadata": {},
   "source": [
    "### ✅ Noslēgums"
   ]
  },
  {
   "cell_type": "code",
   "metadata": {},
   "outputs": [],
   "source": [
    "def calculate_score():\n",
    "    completed = all(r is not None for r in results)\n",
    "    if not completed:\n",
    "        return widgets.HTML(\"<b style='color:red'>⚠️ Lūdzu, atbildi uz visiem jautājumiem pirms iesniegšanas.</b>\")\n",
    "    score = round(sum(results) / len(results) * 100)\n",
    "    status = \"✅ Nokārtots!\" if score >= 70 else \"❌ Nenokārtots.\"\n",
    "    color = \"green\" if score >= 70 else \"red\"\n",
    "    return widgets.HTML(f\"<h3>Rezultāts: <span style='color:{color}'>{score}%</span> – {status}</h3>\")\n",
    "\n",
    "display(calculate_score())"
   ]
  }
 ],
 "metadata": {
  "kernelspec": {
   "display_name": "Python 3",
   "language": "python",
   "name": "python3"
  },
  "language_info": {
   "name": "python",
   "version": ""
  }
 },
 "nbformat": 4,
 "nbformat_minor": 5
}
