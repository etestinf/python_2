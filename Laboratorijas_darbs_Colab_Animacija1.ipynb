{
 "cells": [
  {
   "cell_type": "markdown",
   "metadata": {},
   "source": [
    "# 🎓 Laboratorijas darbs: Bumbiņas animācija ar matplotlib\n",
    "\n",
    "**Mērķis:**\n",
    "- Izprast vienkāršu animāciju ar `matplotlib`\n",
    "- Veidot atsitienu no sienām\n",
    "- Novērtēt ietekmi no ātruma, rādiusa un sākuma pozīcijas"
   ]
  },
  {
   "cell_type": "code",
   "metadata": {},
   "outputs": [],
   "execution_count": null,
   "source": [
    "import matplotlib.pyplot as plt\n",
    "import matplotlib.patches as patches\n",
    "from matplotlib.animation import FuncAnimation\n",
    "\n",
    "# Iestatām laukumu\n",
    "fig, ax = plt.subplots(figsize=(6, 6))\n",
    "ax.set_xlim(0, 1)\n",
    "ax.set_ylim(0, 1)\n",
    "ax.set_aspect('equal')\n",
    "ax.axis('off')\n",
    "\n",
    "# Bumbiņas parametri\n",
    "radius = 0.05\n",
    "color = 'blue'\n",
    "ball = patches.Circle((0.5, 0.5), radius, color=color)\n",
    "ax.add_patch(ball)\n",
    "\n",
    "# Sākuma pozīcija un ātrums\n",
    "x, y = 0.5, 0.5\n",
    "dx, dy = 0.004, 0.006  # Mazāks solis = gludāka kustība\n",
    "\n",
    "def update(frame):\n",
    "    global x, y, dx, dy\n",
    "    x += dx\n",
    "    y += dy\n",
    "\n",
    "    # Atlec no malām\n",
    "    if x - radius <= 0 or x + radius >= 1:\n",
    "        dx = -dx\n",
    "    if y - radius <= 0 or y + radius >= 1:\n",
    "        dy = -dy\n",
    "\n",
    "    ball.center = (x, y)\n",
    "    return ball,\n",
    "\n",
    "# Startē animāciju\n",
    "ani = FuncAnimation(fig, update, frames=500, interval=20, blit=True)\n",
    "plt.show()"
   ]
  },
  {
   "cell_type": "markdown",
   "metadata": {},
   "source": [
    "### ✅ Uzdevumi:\n",
    "1. Maini `dx`, `dy` vērtības un novēro izmaiņas.\n",
    "2. Pamēģini citu `radius` lielumu.\n",
    "3. Nomaini `color` uz `red`, `green`, u.c.\n",
    "\n",
    "🧠 **Jautājumi diskusijai:**\n",
    "- Kas notiek, ja ātrums ir pārāk liels?\n",
    "- Kāda ir starpība, ja rādiuss ir ļoti mazs?"
   ]
  }
 ],
 "metadata": {
  "colab": {
   "name": "Laboratorijas_darbs_Animacija.ipynb",
   "provenance": []
  },
  "kernelspec": {
   "display_name": "Python 3",
   "language": "python",
   "name": "python3"
  },
  "language_info": {
   "name": "python"
  }
 },
 "nbformat": 4,
 "nbformat_minor": 5
}
