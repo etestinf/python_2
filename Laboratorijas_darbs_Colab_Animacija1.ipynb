# 🎓 Notebook Cell 1 (Markdown)
# 🧪 Laboratorijas darbs: Interaktīva bumbiņas animācija ar matplotlib + ipywidgets
Šis darbs ļauj tev:
- Mainīt bumbiņas **krāsu**, **izmēru**, un **ātrumu**
- Spied **Sākt animāciju**, lai redzētu atsitienu **gludā animācijā** Colab vidē.
# 🎓 Notebook Cell 2 (Code)
import matplotlib.pyplot as plt
import matplotlib.patches as patches
from matplotlib.animation import FuncAnimation
import ipywidgets as widgets
from IPython.display import display, clear_output

# --- Globālie mainīgie ---
x, y = 0.5, 0.5
dx, dy = 0.008, 0.008
radius = 0.05
color = "blue"
ani = None

# --- Sagatavo plotting vidu ---
fig, ax = plt.subplots(figsize=(6,6))
ax.set_xlim(0,1); ax.set_ylim(0,1)
ax.set_aspect("equal"); ax.axis("off")
ball = patches.Circle((x, y), radius, color=color)
ax.add_patch(ball)

# --- Atjaunošanas funkcija ---
def update(frame):
    global x, y, dx, dy
    x += dx; y += dy
    if x - radius <= 0 or x + radius >= 1:
        dx = -dx
    if y - radius <= 0 or y + radius >= 1:
        dy = -dy
    ball.center = (x, y)
    return (ball,)

# --- Start animācijas funkcija ---
def start_animation(btn):
    global ani, x, y, dx, dy, radius, color

    # Ņem vērtības no widgetiem
    x, y = 0.5, 0.5
    radius = radius_slider.value
    color = color_picker.value
    speed = speed_slider.value / 100
    
    dx = speed
    dy = speed * (dy / abs(dy) if dy != 0 else 1)  # saglabā virzienu

    ball.set_radius(radius)
    ball.set_color(color)
    ball.center = (x, y)

    # Aptur iepriekšējo, ja ir
    if ani:
        ani.event_source.stop()

    clear_output(wait=True)
    display(ui, fig)
    ani = FuncAnimation(fig, update, frames=300, interval=20, blit=True)

# --- Lietotāja interfeiss ---
color_picker = widgets.ColorPicker(value="blue", description="Krāsa:")
radius_slider = widgets.FloatSlider(value=0.05, min=0.01, max=0.2, step=0.005, description="Izmērs:")
speed_slider = widgets.IntSlider(value=5, min=1, max=20, step=1, description="Ātrums:")
start_button = widgets.Button(description="Sākt animāciju")
start_button.on_click(start_animation)

ui = widgets.VBox([color_picker, radius_slider, speed_slider, start_button])
display(ui, fig)
