{
  "cells": [
    {
      "cell_type": "code",
      "execution_count": null,
      "metadata": {},
      "outputs": [],
      "source": [
        "import ipywidgets as widgets\n",
        "from IPython.display import display, clear_output, HTML\n",
        "import asyncio\n",
        "from datetime import datetime, timedelta\n",
        "\n",
        "timer_display = widgets.HTML()\n",
        "display(timer_display)\n",
        "\n",
        "async def update_timer(duration_minutes=1):\n",
        "    end_time = datetime.now() + timedelta(minutes=duration_minutes)\n",
        "    while datetime.now() < end_time:\n",
        "        remaining = end_time - datetime.now()\n",
        "        mins, secs = divmod(int(remaining.total_seconds()), 60)\n",
        "        timer_display.value = f\"<h4 style='color:blue'>\u23f3 Atliku\u0161ais laiks: {mins:02d}:{secs:02d}</h4>\"\n",
        "        await asyncio.sleep(1)\n",
        "    timer_display.value = \"<h3 style='color:red'>\u23f0 Laiks beidzies!</h3>\"\n",
        "\n",
        "asyncio.create_task(update_timer())"
      ]
    }
  ],
  "metadata": {
    "kernelspec": {
      "display_name": "Python 3",
      "language": "python",
      "name": "python3"
    },
    "language_info": {
      "name": "python",
      "version": "3.8.10"
    }
  },
  "nbformat": 4,
  "nbformat_minor": 5
}