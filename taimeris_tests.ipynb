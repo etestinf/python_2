{
 "cells": [
  {
   "cell_type": "code",
   "metadata": {},
   "source": [
    "import ipywidgets as widgets\n",
    "from IPython.display import display, clear_output\n",
    "import threading\n",
    "import time\n",
    "from datetime import datetime, timedelta\n",
    "\n",
    "# Laiks sekundēs (40 minūtes)\n",
    "TOTAL_TIME = 40 * 60\n",
    "\n",
    "# Globāli mainīgie\n",
    "remaining_time = TOTAL_TIME\n",
    "timer_label = widgets.Label()\n",
    "auto_submit_triggered = False\n",
    "\n",
    "def format_time(seconds):\n",
    "    mins, secs = divmod(seconds, 60)\n",
    "    return f\"Atlikušais laiks: {mins:02}:{secs:02}\"\n",
    "\n",
    "def update_timer():\n",
    "    global remaining_time, auto_submit_triggered\n",
    "    if remaining_time > 0:\n",
    "        remaining_time -= 1\n",
    "        timer_label.value = format_time(remaining_time)\n",
    "        threading.Timer(1, update_timer).start()\n",
    "    else:\n",
    "        timer_label.value = \"⏰ Laiks beidzies!\"\n",
    "        if not auto_submit_triggered:\n",
    "            auto_submit_triggered = True\n",
    "            submit_results()\n",
    "\n",
    "def submit_results():\n",
    "    clear_output()\n",
    "    display(timer_label)\n",
    "    print(\"Rezultāti automātiski iesniegti. (Šī funkcija jāpaplašina ar reālu datu nosūtīšanu)\")\n",
    "\n",
    "# Sāk taimeri\n",
    "timer_label.value = format_time(remaining_time)\n",
    "display(timer_label)\n",
    "update_timer()"
   ],
   "execution_count": null,
   "outputs": []
  }
 ],
 "metadata": {
  "kernelspec": {
   "display_name": "Python 3",
   "language": "python",
   "name": "python3"
  },
  "language_info": {
   "name": "python"
  }
 },
 "nbformat": 4,
 "nbformat_minor": 2
}
