{
 "cells": [
  {
   "cell_type": "markdown",
   "id": "4c9ec9b2",
   "metadata": {},
   "source": [
    "# 🧑‍🏫 2. nodarbība: Animācija un tastatūras ievade PyGame"
   ]
  },
  {
   "cell_type": "markdown",
   "id": "53c0ca4f",
   "metadata": {},
   "source": [
    "### 🎯 Mērķi:\n",
    "- Pārvietot objektus ekrānā.\n",
    "- Izprast spēles cikla darbību praksē.\n",
    "- Apstrādāt tastatūras ievadi."
   ]
  },
  {
   "cell_type": "markdown",
   "id": "c80e974f",
   "metadata": {},
   "source": [
    "### 📚 Teorija\n",
    "Lai animētu objektus:\n",
    "- Katru kadru atjauno objektu pozīcijas.\n",
    "- Notīri ekrānu un uzzīmē no jauna.\n",
    "- Izmanto `pygame.time.Clock()`, lai kontrolētu kadru ātrumu."
   ]
  },
  {
   "cell_type": "markdown",
   "id": "fa2fe651",
   "metadata": {},
   "source": [
    "### 🧪 Koda piemērs 5: Kustīgs taisnstūris ar bulttaustiņiem"
   ]
  },
  {
   "cell_type": "code",
   "execution_count": null,
   "id": "e75da765",
   "metadata": {},
   "outputs": [],
   "source": [
    "import pygame\n",
    "pygame.init()\n",
    "\n",
    "screen = pygame.display.set_mode((500, 400))\n",
    "pygame.display.set_caption(\"Kustīgs kvadrāts\")\n",
    "clock = pygame.time.Clock()\n",
    "\n",
    "x, y = 50, 50\n",
    "speed = 5\n",
    "\n",
    "running = True\n",
    "while running:\n",
    "    clock.tick(60)\n",
    "    screen.fill((0, 0, 0))\n",
    "\n",
    "    for event in pygame.event.get():\n",
    "        if event.type == pygame.QUIT:\n",
    "            running = False\n",
    "\n",
    "    keys = pygame.key.get_pressed()\n",
    "    if keys[pygame.K_LEFT]:\n",
    "        x -= speed\n",
    "    if keys[pygame.K_RIGHT]:\n",
    "        x += speed\n",
    "    if keys[pygame.K_UP]:\n",
    "        y -= speed\n",
    "    if keys[pygame.K_DOWN]:\n",
    "        y += speed\n",
    "\n",
    "    pygame.draw.rect(screen, (255, 0, 0), (x, y, 50, 50))\n",
    "    pygame.display.update()\n",
    "\n",
    "pygame.quit()"
   ]
  },
  {
   "cell_type": "markdown",
   "id": "b3675997",
   "metadata": {},
   "source": [
    "### 🧪 Koda piemērs 6: Vienkārša animācija (kustīgs aplis)"
   ]
  },
  {
   "cell_type": "code",
   "execution_count": null,
   "id": "86aa2ad6",
   "metadata": {},
   "outputs": [],
   "source": [
    "x = 0\n",
    "while running:\n",
    "    clock.tick(60)\n",
    "    screen.fill((0, 0, 0))\n",
    "\n",
    "    x += 2\n",
    "    pygame.draw.circle(screen, (0, 255, 0), (x, 200), 30)\n",
    "    pygame.display.update()\n",
    "\n",
    "    if x > 500:\n",
    "        x = 0"
   ]
  },
  {
   "cell_type": "markdown",
   "id": "98ba5081",
   "metadata": {},
   "source": [
    "### 🧪 Koda piemērs 7: Atsitiens no loga malām"
   ]
  },
  {
   "cell_type": "code",
   "execution_count": null,
   "id": "23fdfd4a",
   "metadata": {},
   "outputs": [],
   "source": [
    "x, y = 100, 100\n",
    "dx, dy = 3, 3\n",
    "\n",
    "while running:\n",
    "    clock.tick(60)\n",
    "    screen.fill((0, 0, 0))\n",
    "\n",
    "    x += dx\n",
    "    y += dy\n",
    "\n",
    "    if x <= 0 or x >= 470:\n",
    "        dx *= -1\n",
    "    if y <= 0 or y >= 370:\n",
    "        dy *= -1\n",
    "\n",
    "    pygame.draw.rect(screen, (0, 0, 255), (x, y, 30, 30))\n",
    "    pygame.display.update()"
   ]
  },
  {
   "cell_type": "markdown",
   "id": "5b622a59",
   "metadata": {},
   "source": [
    "### 🧪 Koda piemērs 8: Teksta attēlošana"
   ]
  },
  {
   "cell_type": "code",
   "execution_count": null,
   "id": "97c79416",
   "metadata": {},
   "outputs": [],
   "source": [
    "font = pygame.font.SysFont(None, 40)\n",
    "text = font.render(\"Sveika, PyGame!\", True, (255, 255, 255))\n",
    "\n",
    "while running:\n",
    "    screen.fill((0, 0, 0))\n",
    "    screen.blit(text, (150, 180))\n",
    "    pygame.display.update()"
   ]
  },
  {
   "cell_type": "markdown",
   "id": "d0ae8126",
   "metadata": {},
   "source": [
    "## ✅ 2. nodarbības kopsavilkums:\n",
    "- Mēs animējām objektus un apstrādājām tastatūras ievadi.\n",
    "- Izmantojām spēles ciklu, lai kustība būtu vienmērīga.\n",
    "- Iemācījāmies attēlot tekstu uz ekrāna."
   ]
  }
 ],
 "metadata": {},
 "nbformat": 4,
 "nbformat_minor": 5
}