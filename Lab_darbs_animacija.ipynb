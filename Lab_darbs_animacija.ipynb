{
 "cells": [
  {
   "cell_type": "code",
   "execution_count": null,
   "metadata": {
    "id": "Xk1X1QhQj5wR"
   },
   "outputs": [],
   "source": [
    "import numpy as np\n",
    "import matplotlib.pyplot as plt\n",
    "from matplotlib.animation import FuncAnimation\n",
    "from IPython.display import HTML\n",
    "import ipywidgets as widgets\n",
    "\n",
    "# Set up the figure and axis\n",
    "fig, ax = plt.subplots(figsize=(8, 5))\n",
    "ax.set_xlim(0, 10)\n",
    "ax.set_ylim(0, 10)\n",
    "ax.set_aspect('equal')\n",
    "ax.grid(True)\n",
    "plt.close(fig)  # Prevent double display\n",
    "\n",
    "# Initial ball\n",
    "ball = plt.Circle((5, 5), 0.5, color='red')\n",
    "ax.add_patch(ball)\n",
    "\n",
    "# Physics parameters\n",
    "pos = np.array([5.0, 5.0])\n",
    "vel = np.array([1.0, 1.0])\n",
    "gravity = 0.1\n",
    "elasticity = 0.8\n",
    "\n",
    "# Create widgets\n",
    "color_picker = widgets.ColorPicker(\n",
    "    value='red',\n",
    "    description='Ball Color:',\n",
    "    disabled=False\n",
    ")\n",
    "\n",
    "size_slider = widgets.FloatSlider(\n",
    "    value=0.5,\n",
    "    min=0.1,\n",
    "    max=1.5,\n",
    "    step=0.1,\n",
    "    description='Ball Size:',\n",
    "    continuous_update=False\n",
    ")\n",
    "\n",
    "speed_slider = widgets.FloatSlider(\n",
    "    value=1.0,\n",
    "    min=0.1,\n",
    "    max=3.0,\n",
    "    step=0.1,\n",
    "    description='Speed:',\n",
    "    continuous_update=False\n",
    ")\n",
    "\n",
    "# Display widgets\n",
    "display(widgets.HBox([color_picker, size_slider, speed_slider]))"
   ]
  },
  {
   "cell_type": "code",
   "execution_count": null,
   "metadata": {
    "id": "b9QY6V7Vj5wS"
   },
   "outputs": [],
   "source": [
    "# Animation update function\n",
    "def update(frame):\n",
    "    global pos, vel\n",
    "    \n",
    "    # Update velocity with gravity\n",
    "    vel[1] -= gravity * speed_slider.value\n",
    "    \n",
    "    # Update position\n",
    "    pos += vel * speed_slider.value\n",
    "    \n",
    "    # Wall collisions\n",
    "    if pos[0] <= size_slider.value or pos[0] >= 10 - size_slider.value:\n",
    "        vel[0] *= -elasticity\n",
    "        pos[0] = np.clip(pos[0], size_slider.value, 10 - size_slider.value)\n",
    "    \n",
    "    if pos[1] <= size_slider.value or pos[1] >= 10 - size_slider.value:\n",
    "        vel[1] *= -elasticity\n",
    "        pos[1] = np.clip(pos[1], size_slider.value, 10 - size_slider.value)\n",
    "    \n",
    "    # Update ball properties\n",
    "    ball.center = pos\n",
    "    ball.radius = size_slider.value\n",
    "    ball.set_color(color_picker.value)\n",
    "    \n",
    "    return ball,\n",
    "\n",
    "# Create animation\n",
    "ani = FuncAnimation(fig, update, frames=200, interval=20, blit=True)\n",
    "\n",
    "# Display animation\n",
    "HTML(ani.to_jshtml())"
   ]
  }
 ],
 "metadata": {
  "colab": {
   "provenance": []
  },
  "kernelspec": {
   "display_name": "Python 3",
   "name": "python3"
  },
  "language_info": {
   "name": "python"
  }
 },
 "nbformat": 4,
 "nbformat_minor": 0
}