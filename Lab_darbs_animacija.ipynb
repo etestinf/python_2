import numpy as np
import matplotlib.pyplot as plt
from matplotlib.animation import FuncAnimation
from IPython.display import display, HTML
import ipywidgets as widgets

# Set up the figure
fig, ax = plt.subplots(figsize=(8, 6))
ax.set_xlim(0, 10)
ax.set_ylim(0, 10)
ax.set_aspect('equal')
ax.grid(True, linestyle='--', alpha=0.7)
plt.close(fig)  # Prevent double display

# Create the ball
ball = plt.Circle((5, 5), 0.5, color='red', zorder=10)
ax.add_patch(ball)

# Physics parameters
pos = np.array([5.0, 5.0], dtype=float)
vel = np.array([1.5, 0.0], dtype=float)
gravity = 0.2
elasticity = 0.8

# Create widgets
color_picker = widgets.ColorPicker(
    value='red',
    description='Ball Color:',
    style={'description_width': 'initial'}
)

size_slider = widgets.FloatSlider(
    value=0.5,
    min=0.2,
    max=1.5,
    step=0.1,
    description='Ball Size:',
    style={'description_width': 'initial'}
)

speed_slider = widgets.FloatSlider(
    value=1.0,
    min=0.1,
    max=3.0,
    step=0.1,
    description='Speed:',
    style={'description_width': 'initial'}
)

# Display widgets
controls = widgets.HBox([color_picker, size_slider, speed_slider])
display(controls)

# Animation function
def update(frame):
    global pos, vel
    
    # Apply gravity
    vel[1] -= gravity * speed_slider.value
    
    # Update position
    pos += vel * speed_slider.value
    
    # Wall collisions
    current_radius = size_slider.value
    if pos[0] <= current_radius or pos[0] >= 10 - current_radius:
        vel[0] *= -elasticity
        pos[0] = np.clip(pos[0], current_radius, 10 - current_radius)
    
    if pos[1] <= current_radius or pos[1] >= 10 - current_radius:
        vel[1] *= -elasticity
        pos[1] = np.clip(pos[1], current_radius, 10 - current_radius)
    
    # Update ball properties
    ball.center = pos
    ball.radius = current_radius
    ball.set_color(color_picker.value)
    
    return ball,

# Create animation
ani = FuncAnimation(
    fig, 
    update, 
    frames=200, 
    interval=20, 
    blit=True,
    cache_frame_data=False
)

# Display animation
display(HTML(ani.to_jshtml()))