{
 "cells": [
  {
   "cell_type": "markdown",
   "metadata": {},
   "source": [
    "# 🧪 Laboratorijas darbs: Interaktīva atlēcošā bumbiņa ar matplotlib\n",
    "\n",
    "Šajā darbā skolēni var mainīt bumbiņas krāsu, izmēru un ātrumu, lai redzētu, kā tas ietekmē kustību.\n",
    "\n",
    "---"
   ]
  },
  {
   "cell_type": "code",
   "execution_count": null,
   "metadata": {},
   "outputs": [],
   "source": [
    "import matplotlib.pyplot as plt\n",
    "import matplotlib.patches as patches\n",
    "from matplotlib.animation import FuncAnimation\n",
    "import ipywidgets as widgets\n",
    "from IPython.display import display, clear_output\n",
    "\n",
    "# Funkcija animācijas izveidei\n",
    "def create_animation(color='blue', radius=0.05, speed=5):\n",
    "    fig, ax = plt.subplots(figsize=(6, 6))\n",
    "    ax.set_xlim(0, 1)\n",
    "    ax.set_ylim(0, 1)\n",
    "    ax.set_aspect('equal')\n",
    "    ax.axis('off')\n",
    "\n",
    "    ball = patches.Circle((0.5, 0.5), radius, color=color)\n",
    "    ax.add_patch(ball)\n",
    "\n",
    "    x, y = 0.5, 0.5\n",
    "    dx = dy = speed / 500.0\n",
    "\n",
    "    def update(frame):\n",
    "        nonlocal x, y, dx, dy\n",
    "        x += dx\n",
    "        y += dy\n",
    "        if x - radius <= 0 or x + radius >= 1:\n",
    "            dx = -dx\n",
    "        if y - radius <= 0 or y + radius >= 1:\n",
    "            dy = -dy\n",
    "        ball.center = (x, y)\n",
    "        return ball,\n",
    "\n",
    "    ani = FuncAnimation(fig, update, frames=range(600), interval=20, blit=True)\n",
    "    plt.close(fig)\n",
    "    display(fig)\n",
    "\n",
    "# Lietotāja saskarnes elementi\n",
    "color_picker = widgets.ColorPicker(value='blue', description='Krāsa:')\n",
    "radius_slider = widgets.FloatSlider(value=0.05, min=0.01, max=0.2, step=0.01, description='Izmērs:')\n",
    "speed_slider = widgets.IntSlider(value=5, min=1, max=20, step=1, description='Ātrums:')\n",
    "start_button = widgets.Button(description='Sākt animāciju')\n",
    "\n",
    "def on_start_clicked(b):\n",
    "    clear_output(wait=True)\n",
    "    display(ui)\n",
    "    create_animation(color_picker.value, radius_slider.value, speed_slider.value)\n",
    "\n",
    "start_button.on_click(on_start_clicked)\n",
    "\n",
    "ui = widgets.VBox([color_picker, radius_slider, speed_slider, start_button])\n",
    "display(ui)"
   ]
  },
  {
   "cell_type": "markdown",
   "metadata": {},
   "source": [
    "---\n",
    "\n",
    "### 💡 Uzdevumi skolēniem:\n",
    "1. Izvēlies **citu krāsu** bumbiņai.\n",
    "2. Maini **izmēru** uz 0.1 vai 0.15.\n",
    "3. Palielini **ātrumu** līdz 15–20.\n",
    "4. Novēro kā parametri ietekmē kustību!\n",
    "\n",
    "---"
   ]
  }
 ],
 "metadata": {
  "kernelspec": {
   "display_name": "Python 3",
   "language": "python",
   "name": "python3"
  },
  "language_info": {
   "name": "python",
   "version": ""
  }
 },
 "nbformat": 4,
 "nbformat_minor": 5
}
