{
 "cells": [
  {
   "cell_type": "markdown",
   "metadata": {},
   "source": [
    "# 🧪 Laboratorijas darbs: Interaktīva bumbiņas animācija ar matplotlib + ipywidgets\n",
    "\n",
    "Šis darbs ļauj tev:\n",
    "- Mainīt bumbiņas **krāsu**, **izmēru**, un **ātrumu**\n",
    "- Spied **Sākt animāciju**, lai redzētu atsitienu **gludā animācijā** Colab vidē."
   ]
  },
  {
   "cell_type": "code",
   "execution_count": null,
   "metadata": {},
   "outputs": [],
   "source": [
    "import matplotlib.pyplot as plt\n",
    "import matplotlib.patches as patches\n",
    "from matplotlib.animation import FuncAnimation\n",
    "import ipywidgets as widgets\n",
    "from IPython.display import display, clear_output\n",
    "\n",
    "# --- Globālie mainīgie ---\n",
    "x, y = 0.5, 0.5\n",
    "dx, dy = 0.008, 0.008\n",
    "radius = 0.05\n",
    "color = \"blue\"\n",
    "ani = None\n",
    "\n",
    "# --- Sagatavo plotting vidu ---\n",
    "fig, ax = plt.subplots(figsize=(6,6))\n",
    "ax.set_xlim(0,1); ax.set_ylim(0,1)\n",
    "ax.set_aspect(\"equal\"); ax.axis(\"off\")\n",
    "ball = patches.Circle((x, y), radius, color=color)\n",
    "ax.add_patch(ball)\n",
    "\n",
    "# --- Atjaunošanas funkcija ---\n",
    "def update(frame):\n",
    "    global x, y, dx, dy\n",
    "    x += dx; y += dy\n",
    "    if x - radius <= 0 or x + radius >= 1:\n",
    "        dx = -dx\n",
    "    if y - radius <= 0 or y + radius >= 1:\n",
    "        dy = -dy\n",
    "    ball.center = (x, y)\n",
    "    return (ball,)\n",
    "\n",
    "# --- Start animācijas funkcija ---\n",
    "def start_animation(btn):\n",
    "    global ani, x, y, dx, dy, radius, color\n",
    "\n",
    "    x, y = 0.5, 0.5\n",
    "    radius = radius_slider.value\n",
    "    color = color_picker.value\n",
    "    speed = speed_slider.value / 100\n",
    "    dx = speed\n",
    "    dy = speed * (dy / abs(dy) if dy != 0 else 1)\n",
    "\n",
    "    ball.set_radius(radius)\n",
    "    ball.set_color(color)\n",
    "    ball.center = (x, y)\n",
    "\n",
    "    if ani:\n",
    "        ani.event_source.stop()\n",
    "\n",
    "    clear_output(wait=True)\n",
    "    display(ui, fig)\n",
    "    ani = FuncAnimation(fig, update, frames=300, interval=20, blit=True)\n",
    "\n",
    "# --- Lietotāja interfeiss ---\n",
    "color_picker = widgets.ColorPicker(value=\"blue\", description=\"Krāsa:\")\n",
    "radius_slider = widgets.FloatSlider(value=0.05, min=0.01, max=0.2, step=0.005, description=\"Izmērs:\")\n",
    "speed_slider = widgets.IntSlider(value=5, min=1, max=20, step=1, description=\"Ātrums:\")\n",
    "start_button = widgets.Button(description=\"Sākt animāciju\")\n",
    "start_button.on_click(start_animation)\n",
    "\n",
    "ui = widgets.VBox([color_picker, radius_slider, speed_slider, start_button])\n",
    "display(ui, fig)"
   ]
  }
 ],
 "metadata": {
  "kernelspec": {
   "display_name": "Python 3",
   "language": "python",
   "name": "python3"
  },
  "language_info": {
   "name": "python",
   "version": ""
  }
 },
 "nbformat": 4,
 "nbformat_minor": 5
}
