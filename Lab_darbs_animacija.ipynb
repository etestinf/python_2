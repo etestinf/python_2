# Bouncing Ball Animation with Interactive Controls

import matplotlib.pyplot as plt
import matplotlib.patches as patches
from matplotlib.animation import FuncAnimation
import ipywidgets as widgets
from IPython.display import display, clear_output

# Initialize parameters
fig, ax = plt.subplots(figsize=(6, 6))
ax.set_xlim(0, 1)
ax.set_ylim(0, 1)
ax.set_aspect('equal')
ax.axis('off')

ball_patch = None
ani = None

# Widgets
color_picker = widgets.ColorPicker(value='blue', description='Krāsa:')
radius_slider = widgets.FloatSlider(value=0.05, min=0.01, max=0.2, step=0.01, description='Izmērs:')
speed_slider = widgets.IntSlider(value=5, min=1, max=20, step=1, description='Ātrums:')
start_button = widgets.Button(description='Sākt animāciju')

ui = widgets.VBox([color_picker, radius_slider, speed_slider, start_button])
display(ui)

def create_animation(color, radius, speed):
    global ani, ball_patch
    x, y = 0.5, 0.5
    dx, dy = speed / 300, speed / 300

    ax.clear()
    ax.set_xlim(0, 1)
    ax.set_ylim(0, 1)
    ax.set_aspect('equal')
    ax.axis('off')

    ball_patch = patches.Circle((x, y), radius=radius, color=color)
    ax.add_patch(ball_patch)

    def update(frame):
        nonlocal x, y, dx, dy
        x += dx
        y += dy

        if x - radius <= 0 or x + radius >= 1:
            dx = -dx
        if y - radius <= 0 or y + radius >= 1:
            dy = -dy

        ball_patch.center = (x, y)
        return ball_patch,

    ani = FuncAnimation(fig, update, frames=300, interval=20, blit=True)
    display(fig)

def on_start_clicked(b):
    clear_output(wait=True)
    display(ui)
    create_animation(color_picker.value, radius_slider.value, speed_slider.value)

start_button.on_click(on_start_clicked)
