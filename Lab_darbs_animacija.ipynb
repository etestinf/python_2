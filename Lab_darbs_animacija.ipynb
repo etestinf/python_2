import matplotlib.pyplot as plt
import matplotlib.patches as patches
from matplotlib.animation import FuncAnimation
import ipywidgets as widgets
from IPython.display import display, clear_output

# Initial parameters
radius = 0.05
x, y = 0.5, 0.5
dx, dy = 0.01, 0.015

fig, ax = plt.subplots(figsize=(5,5))
ax.set_xlim(0, 1)
ax.set_ylim(0, 1)
ax.set_aspect('equal')
ax.axis('off')

ball = patches.Circle((x, y), radius, color='blue')
ax.add_patch(ball)

# Widgets
color_picker = widgets.ColorPicker(value='blue', description='Krāsa:')
radius_slider = widgets.FloatSlider(value=0.05, min=0.01, max=0.2, step=0.01, description='Izmērs:')
speed_slider = widgets.FloatSlider(value=0.01, min=0.005, max=0.05, step=0.001, description='Ātrums:')
start_button = widgets.Button(description='Sākt animāciju')

# Display widgets once
ui = widgets.VBox([color_picker, radius_slider, speed_slider, start_button])
display(ui)

ani = None

def update(frame):
    global x, y, dx, dy, radius

    x += dx
    y += dy
    r = radius_slider.value
    c = color_picker.value

    if x - r <= 0 or x + r >= 1:
        dx = -dx
    if y - r <= 0 or y + r >= 1:
        dy = -dy

    ball.center = (x, y)
    ball.radius = r
    ball.set_color(c)

    return ball,

def start_animation(b):
    global ani, x, y, dx, dy

    x, y = 0.5, 0.5
    speed = speed_slider.value
    dx, dy = speed, speed

    if ani:
        ani.event_source.stop()
    ani = FuncAnimation(fig, update, frames=200, interval=30, blit=True)
    plt.show()

start_button.on_click(start_animation)
