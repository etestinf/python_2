import matplotlib.pyplot as plt
import matplotlib.patches as patches
from IPython.display import display
import ipywidgets as widgets
import time

# Globals
x, y = 0.5, 0.5
dx, dy = 0.01, 0.015
radius = 0.05
color = 'blue'

fig, ax = plt.subplots(figsize=(5,5))
ax.set_xlim(0, 1)
ax.set_ylim(0, 1)
ax.set_aspect('equal')
ax.axis('off')

ball = patches.Circle((x, y), radius, color=color)
ax.add_patch(ball)

color_picker = widgets.ColorPicker(value='blue', description='Krāsa:')
radius_slider = widgets.FloatSlider(value=0.05, min=0.01, max=0.2, step=0.01, description='Izmērs:')
speed_slider = widgets.FloatSlider(value=0.02, min=0.005, max=0.05, step=0.001, description='Ātrums:')
start_button = widgets.Button(description='Sākt animāciju')

def animate(_):
    global x, y, dx, dy, radius, color

    x, y = 0.5, 0.5
    speed = speed_slider.value
    dx, dy = speed, speed

    # Show figure once
    display(fig)

    for _ in range(300):
        x += dx
        y += dy
        r = radius_slider.value
        c = color_picker.value

        if x - r <= 0 or x + r >= 1:
            dx = -dx
        if y - r <= 0 or y + r >= 1:
            dy = -dy

        ball.center = (x, y)
        ball.radius = r
        ball.set_color(c)

        fig.canvas.draw_idle()
        time.sleep(0.01)  # Control animation speed

# Display widgets once
display(widgets.VBox([color_picker, radius_slider, speed_slider, start_button]))

start_button.on_click(animate)
