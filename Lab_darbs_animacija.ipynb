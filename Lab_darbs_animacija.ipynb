{
 "cells": [
  {
   "cell_type": "markdown",
   "id": "92b784b4",
   "metadata": {},
   "source": [
    "# Interaktīva bumbiņas animācija Google Colab vidē"
   ]
  },
  {
   "cell_type": "code",
   "execution_count": null,
   "id": "d6f11cc7",
   "metadata": {},
   "outputs": [],
   "source": [
    "import matplotlib.pyplot as plt\n",
    "import matplotlib.patches as patches\n",
    "from matplotlib.animation import FuncAnimation, PillowWriter\n",
    "from IPython.display import Image, display, clear_output\n",
    "import ipywidgets as widgets\n",
    "\n",
    "# Funkcija, kas ģenerē un attēlo animāciju\n",
    "def create_animation(color, radius, speed):\n",
    "    fig, ax = plt.subplots(figsize=(5, 5))\n",
    "    ax.set_xlim(0, 1)\n",
    "    ax.set_ylim(0, 1)\n",
    "    ax.set_aspect('equal')\n",
    "    ax.axis('off')\n",
    "\n",
    "    ball = patches.Circle((0.5, 0.5), radius, color=color)\n",
    "    ax.add_patch(ball)\n",
    "\n",
    "    # Sākuma pozīcija un ātrums\n",
    "    x, y = 0.5, 0.5\n",
    "    dx, dy = speed / 200, speed / 150\n",
    "\n",
    "    def update(frame):\n",
    "        nonlocal x, y, dx, dy\n",
    "        x += dx\n",
    "        y += dy\n",
    "        if x - radius <= 0 or x + radius >= 1:\n",
    "            dx = -dx\n",
    "        if y - radius <= 0 or y + radius >= 1:\n",
    "            dy = -dy\n",
    "        ball.center = (x, y)\n",
    "        return ball,\n",
    "\n",
    "    anim = FuncAnimation(fig, update, frames=120, interval=30, blit=True)\n",
    "    anim.save(\"ball_anim.gif\", writer=PillowWriter(fps=30))\n",
    "    plt.close(fig)  # Aizver, lai nedublējas\n",
    "\n",
    "    display(Image(filename=\"ball_anim.gif\"))"
   ]
  },
  {
   "cell_type": "code",
   "execution_count": null,
   "id": "4243f00f",
   "metadata": {},
   "outputs": [],
   "source": [
    "# Ievades elementi\n",
    "color_picker = widgets.ColorPicker(value='blue', description='Krāsa:')\n",
    "radius_slider = widgets.FloatSlider(value=0.05, min=0.01, max=0.2, step=0.01, description='Izmērs:')\n",
    "speed_slider = widgets.IntSlider(value=5, min=1, max=20, step=1, description='Ātrums (1-20):')\n",
    "start_button = widgets.Button(description='Sākt animāciju')\n",
    "\n",
    "# Pogas klikšķa notikums\n",
    "def on_start_clicked(b):\n",
    "    clear_output(wait=True)\n",
    "    display(ui)\n",
    "    create_animation(color_picker.value, radius_slider.value, speed_slider.value)\n",
    "\n",
    "start_button.on_click(on_start_clicked)\n",
    "\n",
    "# Rāda UI\n",
    "ui = widgets.VBox([color_picker, radius_slider, speed_slider, start_button])\n",
    "display(ui)"
   ]
  }
 ],
 "metadata": {
  "language": "python"
 },
 "nbformat": 4,
 "nbformat_minor": 5
}
