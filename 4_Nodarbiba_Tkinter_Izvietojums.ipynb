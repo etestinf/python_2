{
 "cells": [
  {
   "cell_type": "markdown",
   "id": "848bd382",
   "metadata": {},
   "source": [
    "# 🧑‍🏫 4. nodarbība: Papildus Tkinter – izkārtojumi, notikumi un logrīki"
   ]
  },
  {
   "cell_type": "markdown",
   "id": "f33059bb",
   "metadata": {},
   "source": [
    "### 🎯 Mērķi:\n",
    "- Apgūt izkārtojuma veidošanu ar `grid()`.\n",
    "- Izmantot dažādus logrīku veidus.\n",
    "- Apstrādāt lietotāja notikumus."
   ]
  },
  {
   "cell_type": "code",
   "execution_count": null,
   "id": "9d71855c",
   "metadata": {},
   "outputs": [],
   "source": [
    "label = tk.Label(window, text=\"Ievadi savu vārdu:\")\n",
    "label.grid(row=0, column=0)\n",
    "\n",
    "entry = tk.Entry(window)\n",
    "entry.grid(row=0, column=1)"
   ]
  },
  {
   "cell_type": "markdown",
   "id": "3f0c5e1d",
   "metadata": {},
   "source": [
    "### 🧪 Piemērs 1: Izkārtojums ar `grid()`\n",
    "Logrīki novietoti rindās un kolonnās."
   ]
  },
  {
   "cell_type": "code",
   "execution_count": null,
   "id": "d002a12d",
   "metadata": {},
   "outputs": [],
   "source": [
    "check = tk.Checkbutton(window, text=\"Piekrītu noteikumiem\")\n",
    "check.grid(row=1, columnspan=2)"
   ]
  },
  {
   "cell_type": "markdown",
   "id": "68f173ed",
   "metadata": {},
   "source": [
    "### 🧪 Piemērs 2: Atlases rūtiņa (checkbox)\n",
    "Parāda izvēles rūtiņu."
   ]
  },
  {
   "cell_type": "code",
   "execution_count": null,
   "id": "0ce43e9c",
   "metadata": {},
   "outputs": [],
   "source": [
    "rb_var = tk.StringVar()\n",
    "rb1 = tk.Radiobutton(window, text=\"Opcija A\", variable=rb_var, value=\"A\")\n",
    "rb2 = tk.Radiobutton(window, text=\"Opcija B\", variable=rb_var, value=\"B\")\n",
    "rb1.grid(row=2, column=0)\n",
    "rb2.grid(row=2, column=1)"
   ]
  },
  {
   "cell_type": "markdown",
   "id": "15f131b8",
   "metadata": {},
   "source": [
    "### 🧪 Piemērs 3: Radio pogas\n",
    "Lietotājs var izvēlēties vienu opciju."
   ]
  },
  {
   "cell_type": "code",
   "execution_count": null,
   "id": "ce32ec59",
   "metadata": {},
   "outputs": [],
   "source": [
    "scale = tk.Scale(window, from_=0, to=100, orient=tk.HORIZONTAL)\n",
    "scale.grid(row=3, columnspan=2)"
   ]
  },
  {
   "cell_type": "markdown",
   "id": "8450f1b7",
   "metadata": {},
   "source": [
    "### 🧪 Piemērs 4: Slīdnis (Scale)\n",
    "Ļauj izvēlēties skaitli."
   ]
  },
  {
   "cell_type": "code",
   "execution_count": null,
   "id": "d3278f97",
   "metadata": {},
   "outputs": [],
   "source": [
    "listbox = tk.Listbox(window)\n",
    "listbox.insert(1, \"Ābols\")\n",
    "listbox.insert(2, \"Banāns\")\n",
    "listbox.insert(3, \"Ķirsis\")\n",
    "listbox.grid(row=4, columnspan=2)"
   ]
  },
  {
   "cell_type": "markdown",
   "id": "c604c17f",
   "metadata": {},
   "source": [
    "### 🧪 Piemērs 5: Sarakstlodziņš (Listbox)\n",
    "Parāda priekšmetu sarakstu."
   ]
  },
  {
   "cell_type": "code",
   "execution_count": null,
   "id": "6ee6c062",
   "metadata": {},
   "outputs": [],
   "source": [
    "def get_listbox_selection():\n",
    "    selected = listbox.get(listbox.curselection())\n",
    "    print(\"Izvēlēts:\", selected)\n",
    "\n",
    "sel_button = tk.Button(window, text=\"Parādīt izvēli\", command=get_listbox_selection)\n",
    "sel_button.grid(row=5, columnspan=2)"
   ]
  },
  {
   "cell_type": "markdown",
   "id": "e760244f",
   "metadata": {},
   "source": [
    "### 🧪 Piemērs 6: Mijiedarbība ar sarakstu\n",
    "Izvada izvēlēto elementu."
   ]
  },
  {
   "cell_type": "code",
   "execution_count": null,
   "id": "ee75be00",
   "metadata": {},
   "outputs": [],
   "source": [
    "def key_press(event):\n",
    "    print(\"Nospiedi:\", event.char)\n",
    "\n",
    "window.bind(\"<Key>\", key_press)"
   ]
  },
  {
   "cell_type": "markdown",
   "id": "c43cb8fb",
   "metadata": {},
   "source": [
    "### 🧪 Piemērs 7: Tastatūras notikums\n",
    "Izvada nospiesto taustiņu."
   ]
  },
  {
   "cell_type": "code",
   "execution_count": null,
   "id": "068eaa03",
   "metadata": {},
   "outputs": [],
   "source": [
    "canvas = tk.Canvas(window, width=200, height=100, bg=\"white\")\n",
    "canvas.create_oval(50, 25, 150, 75, fill=\"red\")\n",
    "canvas.grid(row=6, columnspan=2)"
   ]
  },
  {
   "cell_type": "markdown",
   "id": "f540aea9",
   "metadata": {},
   "source": [
    "### 🧪 Piemērs 8: Zīmēšana uz Canvas\n",
    "Uzzīmē sarkanu ovālu ar `Canvas`."
   ]
  },
  {
   "cell_type": "markdown",
   "id": "b8bef8d9",
   "metadata": {},
   "source": [
    "## ✅ Kopsavilkums:\n",
    "- Tu apguvi papildus logrīkus un izkārtojuma iespējas.\n",
    "- Tu izmantoji `grid()` komponentu izvietošanai.\n",
    "- Tu apstrādāji notikumus – klikšķus un taustiņus."
   ]
  }
 ],
 "metadata": {},
 "nbformat": 4,
 "nbformat_minor": 5
}