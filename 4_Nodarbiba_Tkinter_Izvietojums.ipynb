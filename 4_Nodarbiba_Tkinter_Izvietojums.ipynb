{
 "cells": [
  {
   "cell_type": "markdown",
   "id": "570d762f",
   "metadata": {},
   "source": [
    "# 🧑‍🏫 4. Nodarbība — Tkinter izvietojums un notikumi\n",
    "\n",
    "🌟 **Mērķi:**\n",
    "- Apgūt `grid()` izkārtojuma metodi.\n",
    "- Lietot jaunas logdaļas: `Checkbutton`, `Canvas`, u.c.\n",
    "- Apstrādāt tastatūras ievadi un citas darbības.\n",
    "- Izmantot kanvas zīmēšanas iespējas.\n"
   ]
  },
  {
   "cell_type": "markdown",
   "id": "e1307592",
   "metadata": {},
   "source": [
    "## 🧪 5. Piemērs: Izkārtojums ar grid()"
   ]
  },
  {
   "cell_type": "code",
   "execution_count": null,
   "id": "6330d6d2",
   "metadata": {},
   "outputs": [],
   "source": [
    "import tkinter as tk\n",
    "\n",
    "def run_example():\n",
    "    window = tk.Tk()\n",
    "    window.title(\"Piemērs 1\")\n",
    "\n",
    "    tk.Label(window, text=\"Vārds:\").grid(row=0, column=0, padx=5, pady=5)\n",
    "    tk.Label(window, text=\"Uzvārds:\").grid(row=1, column=0, padx=5, pady=5)\n",
    "    tk.Entry(window).grid(row=0, column=1, padx=5, pady=5)\n",
    "    tk.Entry(window).grid(row=1, column=1, padx=5, pady=5)\n",
    "    \n",
    "    window.mainloop()\n",
    "\n",
    "run_example()"
   ]
  },
  {
   "cell_type": "markdown",
   "id": "753d05a4",
   "metadata": {},
   "source": [
    "📘 **Paskaidrojums:** Šeit lietots `grid()` izvietojums, kas atļauj precīzi novietot elementus pēc rindas un kolonnas."
   ]
  },
  {
   "cell_type": "markdown",
   "id": "0fcc39c8",
   "metadata": {},
   "source": [
    "## 🧪 6. Piemērs: Izvēles lauks (checkbox)"
   ]
  },
  {
   "cell_type": "code",
   "execution_count": null,
   "id": "2089bba9",
   "metadata": {},
   "outputs": [],
   "source": [
    "import tkinter as tk\n",
    "\n",
    "def run_example():\n",
    "    def show_state():\n",
    "        print(\"Atzīmēts\" if var.get() else \"Nav atzīmēts\")\n",
    "\n",
    "    window = tk.Tk()\n",
    "    window.title(\"Piemērs 2\")\n",
    "\n",
    "    var = tk.BooleanVar()\n",
    "    chk = tk.Checkbutton(window, text=\"Piekrītu nosacījumiem\", variable=var)\n",
    "    chk.pack()\n",
    "\n",
    "    btn = tk.Button(window, text=\"Pārbaudīt\", command=show_state)\n",
    "    btn.pack()\n",
    "\n",
    "    window.mainloop()\n",
    "\n",
    "run_example()"
   ]
  },
  {
   "cell_type": "markdown",
   "id": "83d3b22f",
   "metadata": {},
   "source": [
    "📘 **Paskaidrojums:** Izvēles lauks saistīts ar `BooleanVar`, kas glabā tā stāvokli. Pogas nospiešana parāda vai tas ir atzīmēts."
   ]
  },
  {
   "cell_type": "markdown",
   "id": "0fc305f1",
   "metadata": {},
   "source": [
    "## 🧪 7. Piemērs: Tastatūras taustiņu klausīšanās"
   ]
  },
  {
   "cell_type": "code",
   "execution_count": null,
   "id": "1b6d8d36",
   "metadata": {},
   "outputs": [],
   "source": [
    "import tkinter as tk\n",
    "\n",
    "def run_example():\n",
    "    def on_key(event):\n",
    "        print(\"Nospiedi:\", repr(event.char))\n",
    "\n",
    "    window = tk.Tk()\n",
    "    window.title(\"Piemērs 3\")\n",
    "    window.geometry(\"200x100\")\n",
    "\n",
    "    label = tk.Label(window, text=\"Spied jebkuru taustiņu...\")\n",
    "    label.pack(pady=20)\n",
    "\n",
    "    window.bind(\"<Key>\", on_key)\n",
    "\n",
    "    window.mainloop()\n",
    "\n",
    "run_example()"
   ]
  },
  {
   "cell_type": "markdown",
   "id": "ca79d85e",
   "metadata": {},
   "source": [
    "📘 **Paskaidrojums:** Tiek izmantots `bind()`, lai klausītos jebkuru tastatūras taustiņu. Notikums tiek apstrādāts funkcijā `on_key()`."
   ]
  },
  {
   "cell_type": "markdown",
   "id": "2dac1f0e",
   "metadata": {},
   "source": [
    "## 🧪 8. Piemērs: Zīmēšana ar Canvas"
   ]
  },
  {
   "cell_type": "code",
   "execution_count": null,
   "id": "7f2a3579",
   "metadata": {},
   "outputs": [],
   "source": [
    "import tkinter as tk\n",
    "\n",
    "def run_example():\n",
    "    window = tk.Tk()\n",
    "    window.title(\"Piemērs 4\")\n",
    "\n",
    "    canvas = tk.Canvas(window, width=200, height=100, bg=\"white\")\n",
    "    canvas.pack()\n",
    "\n",
    "    canvas.create_rectangle(20, 20, 180, 80, fill=\"lightblue\", outline=\"black\")\n",
    "    canvas.create_text(100, 50, text=\"Kanvas teksts\", font=(\"Arial\", 12))\n",
    "\n",
    "    window.mainloop()\n",
    "\n",
    "run_example()"
   ]
  },
  {
   "cell_type": "markdown",
   "id": "86a801a7",
   "metadata": {},
   "source": [
    "📘 **Paskaidrojums:** `Canvas` atļauj zīmēt figūras un tekstu. Tiek uzzīmēts taisnstūris ar uzrakstu centrā."
   ]
  },
  {
   "cell_type": "markdown",
   "id": "7a8cf45a",
   "metadata": {},
   "source": [
    "## ✅ Kopsavilkums:\n",
    "- Tu izmantoji `grid()` lai strukturētu izvietojumu.\n",
    "- Tu strādāji ar `Checkbutton`, tastatūras notikumiem un `Canvas`.\n",
    "- Tu veidoji grafisku interfeisu ar notikumu apstrādi un vizuāliem objektiem.\n"
   ]
  }
 ],
 "metadata": {},
 "nbformat": 4,
 "nbformat_minor": 5
}
