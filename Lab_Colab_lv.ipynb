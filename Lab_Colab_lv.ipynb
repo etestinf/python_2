{
 "cells": [
  {
   "cell_type": "code",
   "execution_count": null,
   "metadata": {
    "id": "sākotnējā_iestatīšana"
   },
   "outputs": [],
   "source": [
    "import numpy as np\n",
    "import matplotlib.pyplot as plt\n",
    "from matplotlib.animation import FuncAnimation\n",
    "from IPython.display import display, HTML\n",
    "import ipywidgets as widgets"
   ]
  },
  {
   "cell_type": "code",
   "execution_count": null,
   "metadata": {
    "id": "attēla_iestatīšana"
   },
   "outputs": [],
   "source": [
    "# Uzstādām grafikas logu\n",
    "fig, ax = plt.subplots(figsize=(8, 6))\n",
    "ax.set_xlim(0, 10)\n",
    "ax.set_ylim(0, 10)\n",
    "ax.set_aspect('equal')\n",
    "ax.grid(True, linestyle='--', alpha=0.7)\n",
    "plt.close(fig)  # Novērš dubultattēlu\n",
    "\n",
    "# Izveidojam bumbu\n",
    "bumba = plt.Circle((5, 5), 0.5, color='sarkana', zorder=10)\n",
    "ax.add_patch(bumba)\n",
    "\n",
    "# Fizikas parametri\n",
    "pozīcija = np.array([5.0, 5.0], dtype=float)\n",
    "ātrums = np.array([1.5, 0.0], dtype=float)\n",
    "gravitācija = 0.2\n",
    "elastība = 0.8"
   ]
  },
  {
   "cell_type": "code",
   "execution_count": null,
   "metadata": {
    "id": "kontrolelementu_iestatīšana"
   },
   "outputs": [],
   "source": [
    "# Izveidojam kontrolelementus\n",
    "krāsu_izvēle = widgets.ColorPicker(\n",
    "    value='sarkana',\n",
    "    description='Bumbas krāsa:',\n",
    "    style={'description_width': 'initial'}\n",
    ")\n",
    "\n",
    "izmēra_slīdnis = widgets.FloatSlider(\n",
    "    value=0.5,\n",
    "    min=0.2,\n",
    "    max=1.5,\n",
    "    step=0.1,\n",
    "    description='Bumbas izmērs:',\n",
    "    style={'description_width': 'initial'}\n",
    ")\n",
    "\n",
    "ātruma_slīdnis = widgets.FloatSlider(\n",
    "    value=1.0,\n",
    "    min=0.1,\n",
    "    max=3.0,\n",
    "    step=0.1,\n",
    "    description='Ātrums:',\n",
    "    style={'description_width': 'initial'}\n",
    ")\n",
    "\n",
    "# Parādām kontrolelementus\n",
    "kontroles = widgets.HBox([krāsu_izvēle, izmēra_slīdnis, ātruma_slīdnis])\n",
    "display(kontroles)"
   ]
  },
  {
   "cell_type": "code",
   "execution_count": null,
   "metadata": {
    "id": "animācijas_iestatīšana"
   },
   "outputs": [],
   "source": [
    "# Animācijas funkcija\n",
    "def atjaunināt(kadrs):\n",
    "    global pozīcija, ātrums\n",
    "    \n",
    "    # Pieliekam gravitāciju\n",
    "    ātrums[1] -= gravitācija * ātruma_slīdnis.value\n",
    "    \n",
    "    # Atjauninām pozīciju\n",
    "    pozīcija += ātrums * ātruma_slīdnis.value\n",
    "    \n",
    "    # Sienu sadursmes\n",
    "    pašreizējais_rādiuss = izmēra_slīdnis.value\n",
    "    if pozīcija[0] <= pašreizējais_rādiuss or pozīcija[0] >= 10 - pašreizējais_rādiuss:\n",
    "        ātrums[0] *= -elastība\n",
    "        pozīcija[0] = np.clip(pozīcija[0], pašreizējais_rādiuss, 10 - pašreizējais_rādiuss)\n",
    "    \n",
    "    if pozīcija[1] <= pašreizējais_rādiuss or pozīcija[1] >= 10 - pašreizējais_rādiuss:\n",
    "        ātrums[1] *= -elastība\n",
    "        pozīcija[1] = np.clip(pozīcija[1], pašreizējais_rādiuss, 10 - pašreizējais_rādiuss)\n",
    "    \n",
    "    # Atjauninām bumbas parametrus\n",
    "    bumba.center = pozīcija\n",
    "    bumba.radius = pašreizējais_rādiuss\n",
    "    bumba.set_color(krāsu_izvēle.value)\n",
    "    \n",
    "    return bumba,\n",
    "\n",
    "# Izveidojam animāciju\n",
    "animācija = FuncAnimation(\n",
    "    fig, \n",
    "    atjaunināt, \n",
    "    frames=200, \n",
    "    interval=20, \n",
    "    blit=True,\n",
    "    cache_frame_data=False\n",
    ")\n",
    "\n",
    "# Parādām animāciju\n",
    "display(HTML(animācija.to_jshtml()))"
   ]
  }
 ],
 "metadata": {
  "colab": {
   "provenance": []
  },
  "kernelspec": {
   "display_name": "Python 3",
   "language": "python",
   "name": "python3"
  },
  "language_info": {
   "name": "python",
   "version": "3.10.12"
  }
 },
 "nbformat": 4,
 "nbformat_minor": 0
}