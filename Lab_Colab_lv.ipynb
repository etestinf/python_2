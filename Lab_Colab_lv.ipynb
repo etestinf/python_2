{
 "cells": [
  {
   "cell_type": "code",
   "execution_count": null,
   "metadata": {
    "id": "initial_setup"
   },
   "outputs": [],
   "source": [
    "# Importējam nepieciešamās bibliotēkas\n",
    "import numpy as np\n",
    "import matplotlib.pyplot as plt\n",
    "from matplotlib.animation import FuncAnimation\n",
    "from IPython.display import display, HTML\n",
    "import ipywidgets as widgets"
   ]
  },
  {
   "cell_type": "code",
   "execution_count": null,
   "metadata": {
    "id": "figure_setup"
   },
   "outputs": [],
   "source": [
    "# Uzstādām grafikas logu\n",
    "fig, ax = plt.subplots(figsize=(8, 6))\n",
    "ax.set_xlim(0, 10)\n",
    "ax.set_ylim(0, 10)\n",
    "ax.set_aspect('equal')\n",
    "ax.grid(True, linestyle='--', alpha=0.7)\n",
    "plt.close(fig)  # Novērš dubultattēlu\n",
    "\n",
    "# Izveidojam bumbu\n",
    "ball = plt.Circle((5, 5), 0.5, color='red', zorder=10)\n",
    "ax.add_patch(ball)\n",
    "\n",
    "# Fizikas parametri\n",
    "pos = np.array([5.0, 5.0], dtype=float)\n",
    "vel = np.array([1.5, 0.0], dtype=float)\n",
    "gravity = 0.2\n",
    "elasticity = 0.8"
   ]
  },
  {
   "cell_type": "code",
   "execution_count": null,
   "metadata": {
    "id": "widgets_setup"
   },
   "outputs": [],
   "source": [
    "# Izveidojam kontrolelementus\n",
    "color_picker = widgets.ColorPicker(\n",
    "    value='red',\n",
    "    description='Bumbas krāsa:',\n",
    "    style={'description_width': 'initial'}\n",
    ")\n",
    "\n",
    "size_slider = widgets.FloatSlider(\n",
    "    value=0.5,\n",
    "    min=0.2,\n",
    "    max=1.5,\n",
    "    step=0.1,\n",
    "    description='Bumbas izmērs:',\n",
    "    style={'description_width': 'initial'}\n",
    ")\n",
    "\n",
    "speed_slider = widgets.FloatSlider(\n",
    "    value=1.0,\n",
    "    min=0.1,\n",
    "    max=3.0,\n",
    "    step=0.1,\n",
    "    description='Ātrums:',\n",
    "    style={'description_width': 'initial'}\n",
    ")\n",
    "\n",
    "# Parādām kontrolelementus\n",
    "controls = widgets.HBox([color_picker, size_slider, speed_slider])\n",
    "display(controls)"
   ]
  },
  {
   "cell_type": "code",
   "execution_count": null,
   "metadata": {
    "id": "animation_setup"
   },
   "outputs": [],
   "source": [
    "# Animācijas funkcija\n",
    "def update(frame):\n",
    "    global pos, vel\n",
    "    \n",
    "    # Pieliekam gravitāciju\n",
    "    vel[1] -= gravity * speed_slider.value\n",
    "    \n",
    "    # Atjauninām pozīciju\n",
    "    pos += vel * speed_slider.value\n",
    "    \n",
    "    # Sienu sadursmes\n",
    "    current_radius = size_slider.value\n",
    "    if pos[0] <= current_radius or pos[0] >= 10 - current_radius:\n",
    "        vel[0] *= -elasticity\n",
    "        pos[0] = np.clip(pos[0], current_radius, 10 - current_radius)\n",
    "    \n",
    "    if pos[1] <= current_radius or pos[1] >= 10 - current_radius:\n",
    "        vel[1] *= -elasticity\n",
    "        pos[1] = np.clip(pos[1], current_radius, 10 - current_radius)\n",
    "    \n",
    "    # Atjauninām bumbas parametrus\n",
    "    ball.center = pos\n",
    "    ball.radius = current_radius\n",
    "    ball.set_color(color_picker.value)\n",
    "    \n",
    "    return ball,\n",
    "\n",
    "# Izveidojam animāciju\n",
    "ani = FuncAnimation(\n",
    "    fig, \n",
    "    update, \n",
    "    frames=200, \n",
    "    interval=20, \n",
    "    blit=True,\n",
    "    cache_frame_data=False\n",
    ")\n",
    "\n",
    "# Parādām animāciju\n",
    "display(HTML(ani.to_jshtml()))"
   ]
  }
 ],
 "metadata": {
  "colab": {
   "provenance": []
  },
  "kernelspec": {
   "display_name": "Python 3",
   "language": "python",
   "name": "python3"
  },
  "language_info": {
   "name": "python",
   "version": "3.10.12"
  }
 },
 "nbformat": 4,
 "nbformat_minor": 0
}