{
 "cells": [
  {
   "cell_type": "markdown",
   "metadata": {},
   "source": [
    "# 🧑‍🏫 Tkinter Nodarbības: 1. līdz 4. nodarbība"
   ]
  },
  {
   "cell_type": "markdown",
   "metadata": {},
   "source": [
    "## 🎯 Mērķi\n",
    "- Izveidot vienkāršu Tkinter logu ar nosaukumu un izmēru.\n",
    "- Pievienot teksta etiķeti un pogu.\n",
    "- Apgūt pamatfunkcijas — `pack()` un `command`.\n",
    "- Izprast, kā notiek lietotāja darbību apstrāde."
   ]
  },
  {
   "cell_type": "markdown",
   "metadata": {},
   "source": [
    "## 📚 Teorija\n",
    "- **Tkinter** ir standarta GUI bibliotēka Python valodā.\n",
    "- Galvenie elementi: `Tk()` — logs, `Label` — teksta laukam, `Button` — poga, `pack()` — vienkāršs izkārtojums.\n",
    "- Funkcijas var tikt piesaistītas pogu darbībām ar `command=...`.\n",
    "- Katrs GUI elements tiek piesaistīts konkrētam \"parent\" objektam (piemēram, logam)."
   ]
  },
  {
   "cell_type": "markdown",
   "metadata": {},
   "source": [
    "## 1. nodarbība: Vienkāršs logs\n",
    "\n",
    "📘 **Paskaidrojums:** Tiek izveidots tukšs GUI logs ar nosaukumu un izmēru."
   ]
  },
  {
   "cell_type": "code",
   "execution_count": null,
   "metadata": {},
   "outputs": [],
   "source": [
    "import tkinter as tk\n",
    "\n",
    "window = tk.Tk()\n",
    "window.title(\"Mana pirmā Tkinter lietotne\")\n",
    "window.geometry(\"300x200\")"
   ]
  },
  {
   "cell_type": "markdown",
   "metadata": {},
   "source": [
    "## 2. nodarbība: Etiķete logā\n",
    "\n",
    "📘 **Paskaidrojums:** Etiķete rāda tekstu logā."
   ]
  },
  {
   "cell_type": "code",
   "execution_count": null,
   "metadata": {},
   "outputs": [],
   "source": [
    "label = tk.Label(window, text=\"Sveiks, Tkinter!\")\n",
    "label.pack()"
   ]
  },
  {
   "cell_type": "markdown",
   "metadata": {},
   "source": [
    "## 3. nodarbība: Poga ar darbību\n",
    "\n",
    "📘 **Paskaidrojums:** Poga, kas, nospiežot, izvada tekstu konsolē."
   ]
  },
  {
   "cell_type": "code",
   "execution_count": null,
   "metadata": {},
   "outputs": [],
   "source": [
    "def on_button_click():\n",
    "    print(\"Poga nospiesta!\")\n",
    "\n",
    "button = tk.Button(window, text=\"Nospied mani\", command=on_button_click)\n",
    "button.pack()"
   ]
  },
  {
   "cell_type": "markdown",
   "metadata": {},
   "source": [
    "## 4. nodarbība: Skaitītājs\n",
    "\n",
    "📘 **Paskaidrojums:** Poga palielina skaitītāja vērtību. Skaitlis tiek glabāts sarakstā, lai varētu to mainīt."
   ]
  },
  {
   "cell_type": "code",
   "execution_count": null,
   "metadata": {},
   "outputs": [],
   "source": [
    "def run_example():\n",
    "    count = [0]\n",
    "\n",
    "    def increment():\n",
    "        count[0] += 1\n",
    "        label_counter.config(text=f\"Skaits: {count[0]}\")\n",
    "\n",
    "    counter_window = tk.Tk()\n",
    "    counter_window.title(\"Piemērs 4\")\n",
    "\n",
    "    label_counter = tk.Label(counter_window, text=\"Skaits: 0\")\n",
    "    label_counter.pack()\n",
    "\n",
    "    button = tk.Button(counter_window, text=\"Pieskaiti\", command=increment)\n",
    "    button.pack()\n",
    "\n",
    "    counter_window.mainloop()\n",
    "\n",
    "run_example()"
   ]
  }
 ],
 "metadata": {
  "kernelspec": {
   "display_name": "Python 3",
   "language": "python",
   "name": "python3"
  },
  "language_info": {
   "name": "python",
   "version": "3.x"
  }
 },
 "nbformat": 4,
 "nbformat_minor": 5
}
