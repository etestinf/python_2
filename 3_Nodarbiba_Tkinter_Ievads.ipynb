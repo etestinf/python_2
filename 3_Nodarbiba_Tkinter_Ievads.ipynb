{
 "cells": [
  {
   "cell_type": "markdown",
   "metadata": {},
   "source": [
    "# 🧑‍🏫 Tkinter Nodarbības: 1. līdz 4. nodarbība"
   ]
  },
  {
   "cell_type": "markdown",
   "metadata": {},
   "source": [
    "## 1. nodarbība: Vienkāršs logs"
   ]
  },
  {
   "cell_type": "code",
   "execution_count": null,
   "metadata": {},
   "outputs": [],
   "source": [
    "import tkinter as tk\n",
    "\n",
    "window = tk.Tk()\n",
    "window.title(\"Mana pirmā Tkinter lietotne\")\n",
    "window.geometry(\"300x200\")"
   ]
  },
  {
   "cell_type": "markdown",
   "metadata": {},
   "source": [
    "📘 **Paskaidrojums:** Tiek izveidots tukšs GUI logs ar nosaukumu un izmēru."
   ]
  },
  {
   "cell_type": "markdown",
   "metadata": {},
   "source": [
    "## 2. nodarbība: Etiķete logā"
   ]
  },
  {
   "cell_type": "code",
   "execution_count": null,
   "metadata": {},
   "outputs": [],
   "source": [
    "label = tk.Label(window, text=\"Sveiks, Tkinter!\")\n",
    "label.pack()"
   ]
  },
  {
   "cell_type": "markdown",
   "metadata": {},
   "source": [
    "📘 **Paskaidrojums:** Etiķete rāda tekstu logā."
   ]
  },
  {
   "cell_type": "markdown",
   "metadata": {},
   "source": [
    "## 3. nodarbība: Poga ar darbību"
   ]
  },
  {
   "cell_type": "code",
   "execution_count": null,
   "metadata": {},
   "outputs": [],
   "source": [
    "def on_button_click():\n",
    "    print(\"Poga nospiesta!\")\n",
    "\n",
    "button = tk.Button(window, text=\"Nospied mani\", command=on_button_click)\n",
    "button.pack()"
   ]
  },
  {
   "cell_type": "markdown",
   "metadata": {},
   "source": [
    "📘 **Paskaidrojums:** Poga, kas, nospiežot, izvada tekstu konsolē."
   ]
  },
  {
   "cell_type": "markdown",
   "metadata": {},
   "source": [
    "## 4. nodarbība: Skaitītājs"
   ]
  },
{
 "cell_type": "code",
 "execution_count": null,
 "metadata": {},
 "outputs": [],
 "source": [
  "def run_example():\n",
  "    count = [0]\n",
  "\n",
  "    def increment():\n",
  "        count[0] += 1\n",
  "        label_counter.config(text=f\"Skaits: {count[0]}\")\n",
  "\n",
  "    window = tk.Tk()\n",
  "    window.title(\"Piemērs 4\")\n",
  "\n",
  "    label_counter = tk.Label(window, text=\"Skaits: 0\")\n",
  "    label_counter.pack()\n",
  "\n",
  "    button = tk.Button(window, text=\"Pieskaiti\", command=increment)\n",
  "    button.pack()\n",
  "\n",
  "    window.mainloop()\n",
  "\n",
  "run_example()"
 ]
}
 "metadata": {
  "kernelspec": {
   "display_name": "Python 3",
   "language": "python",
   "name": "python3"
  },
  "language_info": {
   "name": "python",
   "version": "3.x"
  }
 },
 "nbformat": 4,
 "nbformat_minor": 5
}
