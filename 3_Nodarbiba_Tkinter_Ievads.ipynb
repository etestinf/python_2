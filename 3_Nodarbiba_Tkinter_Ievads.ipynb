{
 "cells": [
  {
   "cell_type": "markdown",
   "id": "9e8b3d97",
   "metadata": {},
   "source": [
    "# 🧑‍🏫 3. nodarbība: Ievads Tkinter – Python GUI modulis"
   ]
  },
  {
   "cell_type": "markdown",
   "id": "28754d4e",
   "metadata": {},
   "source": [
    "### 🎯 Mērķi:\n",
    "- Saprast, kas ir Tkinter.\n",
    "- Izveidot pamata GUI logu.\n",
    "- Apgūt, kā izvietot logrīkus (pogas, etiķetes, ievades lauki)."
   ]
  },
  {
   "cell_type": "code",
   "execution_count": null,
   "id": "62bb9bed",
   "metadata": {},
   "outputs": [],
   "source": [
    "import tkinter as tk\n",
    "\n",
    "window = tk.Tk()\n",
    "window.title(\"Mana pirmā Tkinter lietotne\")\n",
    "window.geometry(\"300x200\")\n",
    "\n",
    "# Šis būs galvenais logs, uz kura balstās pārējie piemēri"
   ]
  },
  {
   "cell_type": "markdown",
   "id": "ae2b13af",
   "metadata": {},
   "source": [
    "### 🧪 Piemērs 1: Izveido logu\n",
    "Šis kods inicializē vienkāršu GUI logu."
   ]
  },
  {
   "cell_type": "code",
   "execution_count": null,
   "id": "7da69e6b",
   "metadata": {},
   "outputs": [],
   "source": [
    "label = tk.Label(window, text=\"Sveiks, Tkinter!\")\n",
    "label.pack()"
   ]
  },
  {
   "cell_type": "markdown",
   "id": "424d178c",
   "metadata": {},
   "source": [
    "### 🧪 Piemērs 2: Pievieno etiķeti\n",
    "Parāda tekstu logā ar `Label`."
   ]
  },
  {
   "cell_type": "code",
   "execution_count": null,
   "id": "2e2f82a1",
   "metadata": {},
   "outputs": [],
   "source": [
    "button = tk.Button(window, text=\"Nospied mani\", command=lambda: print(\"Poga nospiesta!\"))\n",
    "button.pack()"
   ]
  },
  {
   "cell_type": "markdown",
   "id": "fd3bfc16",
   "metadata": {},
   "source": [
    "### 🧪 Piemērs 3: Pievieno pogu\n",
    "Poga izvada tekstu uz konsoli, kad to nospiež."
   ]
  },
  {
   "cell_type": "code",
   "execution_count": null,
   "id": "92f6d765",
   "metadata": {},
   "outputs": [],
   "source": [
    "entry = tk.Entry(window)\n",
    "entry.pack()\n",
    "\n",
    "submit = tk.Button(window, text=\"Apstiprināt\", command=lambda: print(\"Tu ievadīji:\", entry.get()))\n",
    "submit.pack()"
   ]
  },
  {
   "cell_type": "markdown",
   "id": "e124f442",
   "metadata": {},
   "source": [
    "### 🧪 Piemērs 4: Ievades lauks\n",
    "Lietotājs var ievadīt tekstu un nospiest pogu. Kad lietotājs nospiež \"Apstiprināt\", konsolē tiek izdrukāts ievadītais teksts."
   ]
  },
  {
   "cell_type": "code",
   "execution_count": null,
   "id": "f2ea9d27",
   "metadata": {},
   "outputs": [],
   "source": [
    "# Beigās palaiž logu\n",
    "window.mainloop()"
   ]
  }
 ],
 "metadata": {
  "kernelspec": {
   "display_name": "Python 3",
   "language": "python",
   "name": "python3"
  },
  "language_info": {
   "name": "python",
   "version": ""
  }
 },
 "nbformat": 4,
 "nbformat_minor": 5
}
