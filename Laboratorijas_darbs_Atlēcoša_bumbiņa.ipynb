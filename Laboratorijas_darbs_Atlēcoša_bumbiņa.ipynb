{
 "cells": [
  {
   "cell_type": "markdown",
   "metadata": {},
   "source": [
    "# Bumbiņas animācija ar matplotlib un ipywidgets\n",
    "\n",
    "Šī laboratorijas darba versija izmanto `matplotlib` un `ipywidgets`, lai izveidotu interaktīvu atlēcošas bumbiņas animāciju, kas darbojas tieši Google Colab vai jebkurā Jupyter vidē."
   ]
  },
  {
   "cell_type": "code",
   "execution_count": null,
   "metadata": {},
   "outputs": [],
   "source": [
    "import matplotlib.pyplot as plt\n",
    "import matplotlib.patches as patches\n",
    "from matplotlib.animation import FuncAnimation\n",
    "import ipywidgets as widgets\n",
    "from IPython.display import display, clear_output\n",
    "\n",
    "# Globals\n",
    "x, y = 0.5, 0.5\n",
    "dx, dy = 0.008, 0.008\n",
    "radius = 0.05\n",
    "color = 'blue'\n",
    "\n",
    "fig, ax = plt.subplots(figsize=(6,6))\n",
    "ax.set_xlim(0, 1)\n",
    "ax.set_ylim(0, 1)\n",
    "ax.set_aspect('equal')\n",
    "ax.axis('off')\n",
    "\n",
    "ball = patches.Circle((x, y), radius, color=color)\n",
    "ax.add_patch(ball)\n",
    "\n",
    "ani = None\n",
    "\n",
    "def update(frame):\n",
    "    global x, y, dx, dy, ball\n",
    "    x += dx\n",
    "    y += dy\n",
    "    if x - radius <= 0 or x + radius >= 1:\n",
    "        dx = -dx\n",
    "    if y - radius <= 0 or y + radius >= 1:\n",
    "        dy = -dy\n",
    "    ball.center = (x, y)\n",
    "    return ball,\n",
    "\n",
    "def start_animation(_):\n",
    "    global ani, x, y, dx, dy, radius, color, ball\n",
    "    x, y = 0.5, 0.5\n",
    "    radius = radius_slider.value\n",
    "    color = color_picker.value\n",
    "    speed = speed_slider.value / 150\n",
    "    dx, dy = speed, speed\n",
    "\n",
    "    # Remove existing patches before adding new\n",
    "    for patch in ax.patches[:]:\n",
    "        patch.remove()\n",
    "    ball = patches.Circle((x, y), radius, color=color)\n",
    "    ax.add_patch(ball)\n",
    "\n",
    "    if ani:\n",
    "        ani.event_source.stop()\n",
    "    ani = FuncAnimation(fig, update, frames=200, interval=25, blit=True)\n",
    "    clear_output(wait=True)\n",
    "    display(ui, fig)\n",
    "\n",
    "color_picker = widgets.ColorPicker(value='blue', description='Krāsa:')\n",
    "radius_slider = widgets.FloatSlider(value=0.05, min=0.01, max=0.2, step=0.01, description='Izmērs:')\n",
    "speed_slider = widgets.IntSlider(value=5, min=1, max=20, step=1, description='Ātrums (1-20):')\n",
    "start_button = widgets.Button(description='Sākt animāciju')\n",
    "start_button.on_click(start_animation)\n",
    "\n",
    "ui = widgets.VBox([color_picker, radius_slider, speed_slider, start_button])\n",
    "display(ui, fig)"
   ]
  }
 ],
 "metadata": {
  "kernelspec": {
   "display_name": "Python 3",
   "language": "python",
   "name": "python3"
  },
  "language_info": {
   "name": "python",
   "version": "3.11.4",
   "mimetype": "text/x-python",
   "file_extension": ".py",
   "pygments_lexer": "ipython3",
   "codemirror_mode": {
    "name": "ipython",
    "version": 3
   }
  }
 },
 "nbformat": 4,
 "nbformat_minor": 5
}
